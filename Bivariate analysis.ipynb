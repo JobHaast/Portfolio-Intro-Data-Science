{
 "cells": [
  {
   "cell_type": "markdown",
   "metadata": {},
   "source": [
    "# Bivariate analysis"
   ]
  },
  {
   "cell_type": "markdown",
   "metadata": {},
   "source": [
    "In univariate analysis we only looked at 1 variable (= 1 column) at a time. In bivariate analysis we will now look at the relation between two variables (= 2 columns).\n",
    "\n",
    "The type of analysis we can do will once again depend on the types of data of these 2 variables. We look look at:\n",
    "- Numerical VS Numerical.\n",
    "- Nummerical VS Categorical\n",
    "- Categorical VS Categorical"
   ]
  },
  {
   "cell_type": "markdown",
   "metadata": {},
   "source": [
    "## Numerical VS Numerical"
   ]
  },
  {
   "cell_type": "markdown",
   "metadata": {},
   "source": [
    "Examples:\n",
    "- Body length VS Shoe size\n",
    "- Age VS Seconds it takes to run 1 kilometre\n",
    "- Country Unemployment rate VS Country Happiness Rating\n",
    "- Customer Revenue VS Customer Lifetime\n",
    "- Game Wishlists VS Game Purchases\n",
    "- Student grades VS Student attendance\n",
    "- ..."
   ]
  },
  {
   "cell_type": "code",
   "execution_count": 2,
   "metadata": {},
   "outputs": [],
   "source": [
    "import pandas as pd\n",
    "import seaborn as sns"
   ]
  },
  {
   "cell_type": "code",
   "execution_count": 3,
   "metadata": {},
   "outputs": [],
   "source": [
    "iris = sns.load_dataset(\"iris\")"
   ]
  },
  {
   "cell_type": "code",
   "execution_count": 4,
   "metadata": {},
   "outputs": [
    {
     "data": {
      "text/html": [
       "<div>\n",
       "<style scoped>\n",
       "    .dataframe tbody tr th:only-of-type {\n",
       "        vertical-align: middle;\n",
       "    }\n",
       "\n",
       "    .dataframe tbody tr th {\n",
       "        vertical-align: top;\n",
       "    }\n",
       "\n",
       "    .dataframe thead th {\n",
       "        text-align: right;\n",
       "    }\n",
       "</style>\n",
       "<table border=\"1\" class=\"dataframe\">\n",
       "  <thead>\n",
       "    <tr style=\"text-align: right;\">\n",
       "      <th></th>\n",
       "      <th>sepal_length</th>\n",
       "      <th>sepal_width</th>\n",
       "      <th>petal_length</th>\n",
       "      <th>petal_width</th>\n",
       "      <th>species</th>\n",
       "    </tr>\n",
       "  </thead>\n",
       "  <tbody>\n",
       "    <tr>\n",
       "      <th>0</th>\n",
       "      <td>5.1</td>\n",
       "      <td>3.5</td>\n",
       "      <td>1.4</td>\n",
       "      <td>0.2</td>\n",
       "      <td>setosa</td>\n",
       "    </tr>\n",
       "    <tr>\n",
       "      <th>1</th>\n",
       "      <td>4.9</td>\n",
       "      <td>3.0</td>\n",
       "      <td>1.4</td>\n",
       "      <td>0.2</td>\n",
       "      <td>setosa</td>\n",
       "    </tr>\n",
       "    <tr>\n",
       "      <th>2</th>\n",
       "      <td>4.7</td>\n",
       "      <td>3.2</td>\n",
       "      <td>1.3</td>\n",
       "      <td>0.2</td>\n",
       "      <td>setosa</td>\n",
       "    </tr>\n",
       "    <tr>\n",
       "      <th>3</th>\n",
       "      <td>4.6</td>\n",
       "      <td>3.1</td>\n",
       "      <td>1.5</td>\n",
       "      <td>0.2</td>\n",
       "      <td>setosa</td>\n",
       "    </tr>\n",
       "    <tr>\n",
       "      <th>4</th>\n",
       "      <td>5.0</td>\n",
       "      <td>3.6</td>\n",
       "      <td>1.4</td>\n",
       "      <td>0.2</td>\n",
       "      <td>setosa</td>\n",
       "    </tr>\n",
       "  </tbody>\n",
       "</table>\n",
       "</div>"
      ],
      "text/plain": [
       "   sepal_length  sepal_width  petal_length  petal_width species\n",
       "0           5.1          3.5           1.4          0.2  setosa\n",
       "1           4.9          3.0           1.4          0.2  setosa\n",
       "2           4.7          3.2           1.3          0.2  setosa\n",
       "3           4.6          3.1           1.5          0.2  setosa\n",
       "4           5.0          3.6           1.4          0.2  setosa"
      ]
     },
     "execution_count": 4,
     "metadata": {},
     "output_type": "execute_result"
    }
   ],
   "source": [
    "iris.head()"
   ]
  },
  {
   "cell_type": "markdown",
   "metadata": {},
   "source": [
    "![](https://miro.medium.com/max/1000/1*Hh53mOF4Xy4eORjLilKOwA.png \"Iris dataset\") "
   ]
  },
  {
   "cell_type": "markdown",
   "metadata": {},
   "source": [
    "Let's look at the relation between the sepal length and petal length. (Dutch: Kelkblad en bloemblad)"
   ]
  },
  {
   "cell_type": "code",
   "execution_count": 5,
   "metadata": {},
   "outputs": [
    {
     "data": {
      "text/plain": [
       "<AxesSubplot:xlabel='sepal_length', ylabel='petal_length'>"
      ]
     },
     "execution_count": 5,
     "metadata": {},
     "output_type": "execute_result"
    },
    {
     "data": {
      "image/png": "[encoded data removed]",
      "text/plain": [
       "<Figure size 432x288 with 1 Axes>"
      ]
     },
     "metadata": {
      "needs_background": "light"
     },
     "output_type": "display_data"
    }
   ],
   "source": [
    "iris.plot(kind='scatter', x='sepal_length', y='petal_length')"
   ]
  },
  {
   "cell_type": "markdown",
   "metadata": {},
   "source": [
    "A useful statistic for calculating the linear relation between two variable is the **Pearson correlation**.  \n",
    "The Pearson correlation measures the linear relation between two numerical variables. The result is a number between -1 and 1 where\n",
    "- -1 indicates a perfect negative linear relation\n",
    "- 0 indicates that there is no linear relation\n",
    "- 1 indicates a perfect positive linear relation"
   ]
  },
  {
   "cell_type": "markdown",
   "metadata": {},
   "source": [
    "![](https://www.spss-tutorials.com/img/correlation-coefficient-multiple-scatterplots.png \"Pearson correlation examples\")"
   ]
  },
  {
   "cell_type": "markdown",
   "metadata": {},
   "source": [
    "![](https://cdn1.byjus.com/wp-content/uploads/2019/06/word-image28.png \"Pearson correlation formula\")"
   ]
  },
  {
   "cell_type": "code",
   "execution_count": 6,
   "metadata": {},
   "outputs": [
    {
     "data": {
      "text/html": [
       "<div>\n",
       "<style scoped>\n",
       "    .dataframe tbody tr th:only-of-type {\n",
       "        vertical-align: middle;\n",
       "    }\n",
       "\n",
       "    .dataframe tbody tr th {\n",
       "        vertical-align: top;\n",
       "    }\n",
       "\n",
       "    .dataframe thead th {\n",
       "        text-align: right;\n",
       "    }\n",
       "</style>\n",
       "<table border=\"1\" class=\"dataframe\">\n",
       "  <thead>\n",
       "    <tr style=\"text-align: right;\">\n",
       "      <th></th>\n",
       "      <th>sepal_length</th>\n",
       "      <th>petal_length</th>\n",
       "    </tr>\n",
       "  </thead>\n",
       "  <tbody>\n",
       "    <tr>\n",
       "      <th>sepal_length</th>\n",
       "      <td>1.000000</td>\n",
       "      <td>0.871754</td>\n",
       "    </tr>\n",
       "    <tr>\n",
       "      <th>petal_length</th>\n",
       "      <td>0.871754</td>\n",
       "      <td>1.000000</td>\n",
       "    </tr>\n",
       "  </tbody>\n",
       "</table>\n",
       "</div>"
      ],
      "text/plain": [
       "              sepal_length  petal_length\n",
       "sepal_length      1.000000      0.871754\n",
       "petal_length      0.871754      1.000000"
      ]
     },
     "execution_count": 6,
     "metadata": {},
     "output_type": "execute_result"
    }
   ],
   "source": [
    "iris[['sepal_length','petal_length']].corr()"
   ]
  },
  {
   "cell_type": "code",
   "execution_count": 7,
   "metadata": {},
   "outputs": [
    {
     "data": {
      "text/html": [
       "<div>\n",
       "<style scoped>\n",
       "    .dataframe tbody tr th:only-of-type {\n",
       "        vertical-align: middle;\n",
       "    }\n",
       "\n",
       "    .dataframe tbody tr th {\n",
       "        vertical-align: top;\n",
       "    }\n",
       "\n",
       "    .dataframe thead th {\n",
       "        text-align: right;\n",
       "    }\n",
       "</style>\n",
       "<table border=\"1\" class=\"dataframe\">\n",
       "  <thead>\n",
       "    <tr style=\"text-align: right;\">\n",
       "      <th></th>\n",
       "      <th>sepal_length</th>\n",
       "      <th>sepal_width</th>\n",
       "      <th>petal_length</th>\n",
       "      <th>petal_width</th>\n",
       "    </tr>\n",
       "  </thead>\n",
       "  <tbody>\n",
       "    <tr>\n",
       "      <th>sepal_length</th>\n",
       "      <td>1.000000</td>\n",
       "      <td>-0.117570</td>\n",
       "      <td>0.871754</td>\n",
       "      <td>0.817941</td>\n",
       "    </tr>\n",
       "    <tr>\n",
       "      <th>sepal_width</th>\n",
       "      <td>-0.117570</td>\n",
       "      <td>1.000000</td>\n",
       "      <td>-0.428440</td>\n",
       "      <td>-0.366126</td>\n",
       "    </tr>\n",
       "    <tr>\n",
       "      <th>petal_length</th>\n",
       "      <td>0.871754</td>\n",
       "      <td>-0.428440</td>\n",
       "      <td>1.000000</td>\n",
       "      <td>0.962865</td>\n",
       "    </tr>\n",
       "    <tr>\n",
       "      <th>petal_width</th>\n",
       "      <td>0.817941</td>\n",
       "      <td>-0.366126</td>\n",
       "      <td>0.962865</td>\n",
       "      <td>1.000000</td>\n",
       "    </tr>\n",
       "  </tbody>\n",
       "</table>\n",
       "</div>"
      ],
      "text/plain": [
       "              sepal_length  sepal_width  petal_length  petal_width\n",
       "sepal_length      1.000000    -0.117570      0.871754     0.817941\n",
       "sepal_width      -0.117570     1.000000     -0.428440    -0.366126\n",
       "petal_length      0.871754    -0.428440      1.000000     0.962865\n",
       "petal_width       0.817941    -0.366126      0.962865     1.000000"
      ]
     },
     "execution_count": 7,
     "metadata": {},
     "output_type": "execute_result"
    }
   ],
   "source": [
    "iris.corr()"
   ]
  },
  {
   "cell_type": "code",
   "execution_count": 8,
   "metadata": {},
   "outputs": [
    {
     "data": {
      "text/html": [
       "<style  type=\"text/css\" >\n",
       "#T_a19f7e65_84e4_11eb_9826_0068ebda5a45row0_col0,#T_a19f7e65_84e4_11eb_9826_0068ebda5a45row1_col1,#T_a19f7e65_84e4_11eb_9826_0068ebda5a45row2_col2,#T_a19f7e65_84e4_11eb_9826_0068ebda5a45row3_col3{\n",
       "            background-color:  #b40426;\n",
       "            color:  #f1f1f1;\n",
       "        }#T_a19f7e65_84e4_11eb_9826_0068ebda5a45row0_col1,#T_a19f7e65_84e4_11eb_9826_0068ebda5a45row1_col0{\n",
       "            background-color:  #81a4fb;\n",
       "            color:  #000000;\n",
       "        }#T_a19f7e65_84e4_11eb_9826_0068ebda5a45row0_col2,#T_a19f7e65_84e4_11eb_9826_0068ebda5a45row2_col0{\n",
       "            background-color:  #d24b40;\n",
       "            color:  #f1f1f1;\n",
       "        }#T_a19f7e65_84e4_11eb_9826_0068ebda5a45row0_col3,#T_a19f7e65_84e4_11eb_9826_0068ebda5a45row3_col0{\n",
       "            background-color:  #de614d;\n",
       "            color:  #000000;\n",
       "        }#T_a19f7e65_84e4_11eb_9826_0068ebda5a45row1_col2,#T_a19f7e65_84e4_11eb_9826_0068ebda5a45row2_col1{\n",
       "            background-color:  #3b4cc0;\n",
       "            color:  #f1f1f1;\n",
       "        }#T_a19f7e65_84e4_11eb_9826_0068ebda5a45row1_col3,#T_a19f7e65_84e4_11eb_9826_0068ebda5a45row3_col1{\n",
       "            background-color:  #485fd1;\n",
       "            color:  #f1f1f1;\n",
       "        }#T_a19f7e65_84e4_11eb_9826_0068ebda5a45row2_col3,#T_a19f7e65_84e4_11eb_9826_0068ebda5a45row3_col2{\n",
       "            background-color:  #bd1f2d;\n",
       "            color:  #f1f1f1;\n",
       "        }</style><table id=\"T_a19f7e65_84e4_11eb_9826_0068ebda5a45\" ><thead>    <tr>        <th class=\"blank level0\" ></th>        <th class=\"col_heading level0 col0\" >sepal_length</th>        <th class=\"col_heading level0 col1\" >sepal_width</th>        <th class=\"col_heading level0 col2\" >petal_length</th>        <th class=\"col_heading level0 col3\" >petal_width</th>    </tr></thead><tbody>\n",
       "                <tr>\n",
       "                        <th id=\"T_a19f7e65_84e4_11eb_9826_0068ebda5a45level0_row0\" class=\"row_heading level0 row0\" >sepal_length</th>\n",
       "                        <td id=\"T_a19f7e65_84e4_11eb_9826_0068ebda5a45row0_col0\" class=\"data row0 col0\" >1.00</td>\n",
       "                        <td id=\"T_a19f7e65_84e4_11eb_9826_0068ebda5a45row0_col1\" class=\"data row0 col1\" >-0.12</td>\n",
       "                        <td id=\"T_a19f7e65_84e4_11eb_9826_0068ebda5a45row0_col2\" class=\"data row0 col2\" >0.87</td>\n",
       "                        <td id=\"T_a19f7e65_84e4_11eb_9826_0068ebda5a45row0_col3\" class=\"data row0 col3\" >0.82</td>\n",
       "            </tr>\n",
       "            <tr>\n",
       "                        <th id=\"T_a19f7e65_84e4_11eb_9826_0068ebda5a45level0_row1\" class=\"row_heading level0 row1\" >sepal_width</th>\n",
       "                        <td id=\"T_a19f7e65_84e4_11eb_9826_0068ebda5a45row1_col0\" class=\"data row1 col0\" >-0.12</td>\n",
       "                        <td id=\"T_a19f7e65_84e4_11eb_9826_0068ebda5a45row1_col1\" class=\"data row1 col1\" >1.00</td>\n",
       "                        <td id=\"T_a19f7e65_84e4_11eb_9826_0068ebda5a45row1_col2\" class=\"data row1 col2\" >-0.43</td>\n",
       "                        <td id=\"T_a19f7e65_84e4_11eb_9826_0068ebda5a45row1_col3\" class=\"data row1 col3\" >-0.37</td>\n",
       "            </tr>\n",
       "            <tr>\n",
       "                        <th id=\"T_a19f7e65_84e4_11eb_9826_0068ebda5a45level0_row2\" class=\"row_heading level0 row2\" >petal_length</th>\n",
       "                        <td id=\"T_a19f7e65_84e4_11eb_9826_0068ebda5a45row2_col0\" class=\"data row2 col0\" >0.87</td>\n",
       "                        <td id=\"T_a19f7e65_84e4_11eb_9826_0068ebda5a45row2_col1\" class=\"data row2 col1\" >-0.43</td>\n",
       "                        <td id=\"T_a19f7e65_84e4_11eb_9826_0068ebda5a45row2_col2\" class=\"data row2 col2\" >1.00</td>\n",
       "                        <td id=\"T_a19f7e65_84e4_11eb_9826_0068ebda5a45row2_col3\" class=\"data row2 col3\" >0.96</td>\n",
       "            </tr>\n",
       "            <tr>\n",
       "                        <th id=\"T_a19f7e65_84e4_11eb_9826_0068ebda5a45level0_row3\" class=\"row_heading level0 row3\" >petal_width</th>\n",
       "                        <td id=\"T_a19f7e65_84e4_11eb_9826_0068ebda5a45row3_col0\" class=\"data row3 col0\" >0.82</td>\n",
       "                        <td id=\"T_a19f7e65_84e4_11eb_9826_0068ebda5a45row3_col1\" class=\"data row3 col1\" >-0.37</td>\n",
       "                        <td id=\"T_a19f7e65_84e4_11eb_9826_0068ebda5a45row3_col2\" class=\"data row3 col2\" >0.96</td>\n",
       "                        <td id=\"T_a19f7e65_84e4_11eb_9826_0068ebda5a45row3_col3\" class=\"data row3 col3\" >1.00</td>\n",
       "            </tr>\n",
       "    </tbody></table>"
      ],
      "text/plain": [
       "<pandas.io.formats.style.Styler at 0x2d8e411b370>"
      ]
     },
     "execution_count": 8,
     "metadata": {},
     "output_type": "execute_result"
    }
   ],
   "source": [
    "irisCorrelations = iris.corr()\n",
    "irisCorrelations.style.background_gradient(cmap='coolwarm', axis=None).set_precision(2)"
   ]
  },
  {
   "cell_type": "code",
   "execution_count": 9,
   "metadata": {},
   "outputs": [
    {
     "data": {
      "text/plain": [
       "<AxesSubplot:xlabel='sepal_width', ylabel='petal_length'>"
      ]
     },
     "execution_count": 9,
     "metadata": {},
     "output_type": "execute_result"
    },
    {
     "data": {
      "image/png": "[encoded data removed]",
      "text/plain": [
       "<Figure size 432x288 with 1 Axes>"
      ]
     },
     "metadata": {
      "needs_background": "light"
     },
     "output_type": "display_data"
    }
   ],
   "source": [
    "iris.plot(kind='scatter', x='sepal_width', y='petal_length')"
   ]
  },
  {
   "cell_type": "code",
   "execution_count": 10,
   "metadata": {},
   "outputs": [],
   "source": [
    "import numpy as np"
   ]
  },
  {
   "cell_type": "code",
   "execution_count": 11,
   "metadata": {},
   "outputs": [],
   "source": [
    "exampleData = pd.Series(range(100)) + 1\n",
    "exampleDataNegative = -exampleData\n",
    "exampleDataDouble = exampleData * 2\n",
    "exampleDataSquared = exampleData ** 2\n",
    "exampleDataRoot = exampleData ** 0.5\n",
    "\n",
    "exampleDataExponential = 2 ** exampleData\n",
    "exampleDataLog = np.log2(exampleData)\n",
    "\n",
    "exampleDataWithSmallNoise = exampleData + np.random.randint(low=0, high=10, size=len(exampleData))\n",
    "exampleDataWithMediumNoise = exampleData + np.random.randint(low=0, high=100, size=len(exampleData))\n",
    "exampleDataWithHeavyNoise = exampleData + np.random.randint(low=0, high=1000, size=len(exampleData))\n",
    "\n",
    "exampleDataFrame = pd.DataFrame({'original':exampleData, 'negative':exampleDataNegative, 'double':exampleDataDouble, 'squared':exampleDataSquared, 'root': exampleDataRoot, 'exp':exampleDataExponential, 'log':exampleDataLog, 'noiseSmall': exampleDataWithSmallNoise, 'noiseMedium': exampleDataWithMediumNoise, 'noiseHeavy':exampleDataWithHeavyNoise })"
   ]
  },
  {
   "cell_type": "code",
   "execution_count": 12,
   "metadata": {},
   "outputs": [
    {
     "data": {
      "text/html": [
       "<div>\n",
       "<style scoped>\n",
       "    .dataframe tbody tr th:only-of-type {\n",
       "        vertical-align: middle;\n",
       "    }\n",
       "\n",
       "    .dataframe tbody tr th {\n",
       "        vertical-align: top;\n",
       "    }\n",
       "\n",
       "    .dataframe thead th {\n",
       "        text-align: right;\n",
       "    }\n",
       "</style>\n",
       "<table border=\"1\" class=\"dataframe\">\n",
       "  <thead>\n",
       "    <tr style=\"text-align: right;\">\n",
       "      <th></th>\n",
       "      <th>original</th>\n",
       "      <th>negative</th>\n",
       "      <th>double</th>\n",
       "      <th>squared</th>\n",
       "      <th>root</th>\n",
       "      <th>exp</th>\n",
       "      <th>log</th>\n",
       "      <th>noiseSmall</th>\n",
       "      <th>noiseMedium</th>\n",
       "      <th>noiseHeavy</th>\n",
       "    </tr>\n",
       "  </thead>\n",
       "  <tbody>\n",
       "    <tr>\n",
       "      <th>0</th>\n",
       "      <td>1</td>\n",
       "      <td>-1</td>\n",
       "      <td>2</td>\n",
       "      <td>1</td>\n",
       "      <td>1.000000</td>\n",
       "      <td>2</td>\n",
       "      <td>0.000000</td>\n",
       "      <td>2</td>\n",
       "      <td>99</td>\n",
       "      <td>35</td>\n",
       "    </tr>\n",
       "    <tr>\n",
       "      <th>1</th>\n",
       "      <td>2</td>\n",
       "      <td>-2</td>\n",
       "      <td>4</td>\n",
       "      <td>4</td>\n",
       "      <td>1.414214</td>\n",
       "      <td>4</td>\n",
       "      <td>1.000000</td>\n",
       "      <td>9</td>\n",
       "      <td>100</td>\n",
       "      <td>627</td>\n",
       "    </tr>\n",
       "    <tr>\n",
       "      <th>2</th>\n",
       "      <td>3</td>\n",
       "      <td>-3</td>\n",
       "      <td>6</td>\n",
       "      <td>9</td>\n",
       "      <td>1.732051</td>\n",
       "      <td>8</td>\n",
       "      <td>1.584963</td>\n",
       "      <td>5</td>\n",
       "      <td>74</td>\n",
       "      <td>89</td>\n",
       "    </tr>\n",
       "    <tr>\n",
       "      <th>3</th>\n",
       "      <td>4</td>\n",
       "      <td>-4</td>\n",
       "      <td>8</td>\n",
       "      <td>16</td>\n",
       "      <td>2.000000</td>\n",
       "      <td>16</td>\n",
       "      <td>2.000000</td>\n",
       "      <td>4</td>\n",
       "      <td>32</td>\n",
       "      <td>222</td>\n",
       "    </tr>\n",
       "    <tr>\n",
       "      <th>4</th>\n",
       "      <td>5</td>\n",
       "      <td>-5</td>\n",
       "      <td>10</td>\n",
       "      <td>25</td>\n",
       "      <td>2.236068</td>\n",
       "      <td>32</td>\n",
       "      <td>2.321928</td>\n",
       "      <td>14</td>\n",
       "      <td>7</td>\n",
       "      <td>745</td>\n",
       "    </tr>\n",
       "  </tbody>\n",
       "</table>\n",
       "</div>"
      ],
      "text/plain": [
       "   original  negative  double  squared      root  exp       log  noiseSmall  \\\n",
       "0         1        -1       2        1  1.000000    2  0.000000           2   \n",
       "1         2        -2       4        4  1.414214    4  1.000000           9   \n",
       "2         3        -3       6        9  1.732051    8  1.584963           5   \n",
       "3         4        -4       8       16  2.000000   16  2.000000           4   \n",
       "4         5        -5      10       25  2.236068   32  2.321928          14   \n",
       "\n",
       "   noiseMedium  noiseHeavy  \n",
       "0           99          35  \n",
       "1          100         627  \n",
       "2           74          89  \n",
       "3           32         222  \n",
       "4            7         745  "
      ]
     },
     "execution_count": 12,
     "metadata": {},
     "output_type": "execute_result"
    }
   ],
   "source": [
    "exampleDataFrame.head()"
   ]
  },
  {
   "cell_type": "code",
   "execution_count": 13,
   "metadata": {},
   "outputs": [
    {
     "data": {
      "text/html": [
       "<style  type=\"text/css\" >\n",
       "#T_a1baa75c_84e4_11eb_8cf9_0068ebda5a45row0_col0,#T_a1baa75c_84e4_11eb_8cf9_0068ebda5a45row0_col2,#T_a1baa75c_84e4_11eb_8cf9_0068ebda5a45row0_col7,#T_a1baa75c_84e4_11eb_8cf9_0068ebda5a45row1_col1,#T_a1baa75c_84e4_11eb_8cf9_0068ebda5a45row2_col0,#T_a1baa75c_84e4_11eb_8cf9_0068ebda5a45row2_col2,#T_a1baa75c_84e4_11eb_8cf9_0068ebda5a45row2_col7,#T_a1baa75c_84e4_11eb_8cf9_0068ebda5a45row3_col3,#T_a1baa75c_84e4_11eb_8cf9_0068ebda5a45row4_col4,#T_a1baa75c_84e4_11eb_8cf9_0068ebda5a45row5_col5,#T_a1baa75c_84e4_11eb_8cf9_0068ebda5a45row6_col6,#T_a1baa75c_84e4_11eb_8cf9_0068ebda5a45row7_col0,#T_a1baa75c_84e4_11eb_8cf9_0068ebda5a45row7_col2,#T_a1baa75c_84e4_11eb_8cf9_0068ebda5a45row7_col7,#T_a1baa75c_84e4_11eb_8cf9_0068ebda5a45row8_col8,#T_a1baa75c_84e4_11eb_8cf9_0068ebda5a45row9_col9{\n",
       "            background-color:  #b40426;\n",
       "            color:  #f1f1f1;\n",
       "        }#T_a1baa75c_84e4_11eb_8cf9_0068ebda5a45row0_col1,#T_a1baa75c_84e4_11eb_8cf9_0068ebda5a45row1_col0,#T_a1baa75c_84e4_11eb_8cf9_0068ebda5a45row1_col2,#T_a1baa75c_84e4_11eb_8cf9_0068ebda5a45row1_col7,#T_a1baa75c_84e4_11eb_8cf9_0068ebda5a45row2_col1,#T_a1baa75c_84e4_11eb_8cf9_0068ebda5a45row7_col1{\n",
       "            background-color:  #3b4cc0;\n",
       "            color:  #f1f1f1;\n",
       "        }#T_a1baa75c_84e4_11eb_8cf9_0068ebda5a45row0_col3,#T_a1baa75c_84e4_11eb_8cf9_0068ebda5a45row2_col3,#T_a1baa75c_84e4_11eb_8cf9_0068ebda5a45row3_col0,#T_a1baa75c_84e4_11eb_8cf9_0068ebda5a45row3_col2,#T_a1baa75c_84e4_11eb_8cf9_0068ebda5a45row4_col7,#T_a1baa75c_84e4_11eb_8cf9_0068ebda5a45row7_col4{\n",
       "            background-color:  #b8122a;\n",
       "            color:  #f1f1f1;\n",
       "        }#T_a1baa75c_84e4_11eb_8cf9_0068ebda5a45row0_col4,#T_a1baa75c_84e4_11eb_8cf9_0068ebda5a45row2_col4,#T_a1baa75c_84e4_11eb_8cf9_0068ebda5a45row4_col0,#T_a1baa75c_84e4_11eb_8cf9_0068ebda5a45row4_col2{\n",
       "            background-color:  #b70d28;\n",
       "            color:  #f1f1f1;\n",
       "        }#T_a1baa75c_84e4_11eb_8cf9_0068ebda5a45row0_col5,#T_a1baa75c_84e4_11eb_8cf9_0068ebda5a45row2_col5,#T_a1baa75c_84e4_11eb_8cf9_0068ebda5a45row3_col5,#T_a1baa75c_84e4_11eb_8cf9_0068ebda5a45row4_col5,#T_a1baa75c_84e4_11eb_8cf9_0068ebda5a45row5_col0,#T_a1baa75c_84e4_11eb_8cf9_0068ebda5a45row5_col2,#T_a1baa75c_84e4_11eb_8cf9_0068ebda5a45row5_col3,#T_a1baa75c_84e4_11eb_8cf9_0068ebda5a45row5_col4,#T_a1baa75c_84e4_11eb_8cf9_0068ebda5a45row5_col6,#T_a1baa75c_84e4_11eb_8cf9_0068ebda5a45row6_col5{\n",
       "            background-color:  #dcdddd;\n",
       "            color:  #000000;\n",
       "        }#T_a1baa75c_84e4_11eb_8cf9_0068ebda5a45row0_col6,#T_a1baa75c_84e4_11eb_8cf9_0068ebda5a45row2_col6,#T_a1baa75c_84e4_11eb_8cf9_0068ebda5a45row6_col0,#T_a1baa75c_84e4_11eb_8cf9_0068ebda5a45row6_col2{\n",
       "            background-color:  #c73635;\n",
       "            color:  #f1f1f1;\n",
       "        }#T_a1baa75c_84e4_11eb_8cf9_0068ebda5a45row0_col8,#T_a1baa75c_84e4_11eb_8cf9_0068ebda5a45row2_col8,#T_a1baa75c_84e4_11eb_8cf9_0068ebda5a45row7_col8,#T_a1baa75c_84e4_11eb_8cf9_0068ebda5a45row8_col0,#T_a1baa75c_84e4_11eb_8cf9_0068ebda5a45row8_col2,#T_a1baa75c_84e4_11eb_8cf9_0068ebda5a45row8_col7{\n",
       "            background-color:  #ec8165;\n",
       "            color:  #000000;\n",
       "        }#T_a1baa75c_84e4_11eb_8cf9_0068ebda5a45row0_col9,#T_a1baa75c_84e4_11eb_8cf9_0068ebda5a45row2_col9,#T_a1baa75c_84e4_11eb_8cf9_0068ebda5a45row7_col9,#T_a1baa75c_84e4_11eb_8cf9_0068ebda5a45row9_col0,#T_a1baa75c_84e4_11eb_8cf9_0068ebda5a45row9_col2,#T_a1baa75c_84e4_11eb_8cf9_0068ebda5a45row9_col7{\n",
       "            background-color:  #eed0c0;\n",
       "            color:  #000000;\n",
       "        }#T_a1baa75c_84e4_11eb_8cf9_0068ebda5a45row1_col3,#T_a1baa75c_84e4_11eb_8cf9_0068ebda5a45row3_col1{\n",
       "            background-color:  #3e51c5;\n",
       "            color:  #f1f1f1;\n",
       "        }#T_a1baa75c_84e4_11eb_8cf9_0068ebda5a45row1_col4,#T_a1baa75c_84e4_11eb_8cf9_0068ebda5a45row4_col1{\n",
       "            background-color:  #3d50c3;\n",
       "            color:  #f1f1f1;\n",
       "        }#T_a1baa75c_84e4_11eb_8cf9_0068ebda5a45row1_col5,#T_a1baa75c_84e4_11eb_8cf9_0068ebda5a45row5_col1{\n",
       "            background-color:  #dddcdc;\n",
       "            color:  #000000;\n",
       "        }#T_a1baa75c_84e4_11eb_8cf9_0068ebda5a45row1_col6,#T_a1baa75c_84e4_11eb_8cf9_0068ebda5a45row6_col1{\n",
       "            background-color:  #4a63d3;\n",
       "            color:  #f1f1f1;\n",
       "        }#T_a1baa75c_84e4_11eb_8cf9_0068ebda5a45row1_col8,#T_a1baa75c_84e4_11eb_8cf9_0068ebda5a45row8_col1{\n",
       "            background-color:  #799cf8;\n",
       "            color:  #000000;\n",
       "        }#T_a1baa75c_84e4_11eb_8cf9_0068ebda5a45row1_col9,#T_a1baa75c_84e4_11eb_8cf9_0068ebda5a45row9_col1{\n",
       "            background-color:  #c7d7f0;\n",
       "            color:  #000000;\n",
       "        }#T_a1baa75c_84e4_11eb_8cf9_0068ebda5a45row3_col4,#T_a1baa75c_84e4_11eb_8cf9_0068ebda5a45row4_col3{\n",
       "            background-color:  #c43032;\n",
       "            color:  #f1f1f1;\n",
       "        }#T_a1baa75c_84e4_11eb_8cf9_0068ebda5a45row3_col6,#T_a1baa75c_84e4_11eb_8cf9_0068ebda5a45row6_col3{\n",
       "            background-color:  #d95847;\n",
       "            color:  #000000;\n",
       "        }#T_a1baa75c_84e4_11eb_8cf9_0068ebda5a45row3_col7,#T_a1baa75c_84e4_11eb_8cf9_0068ebda5a45row4_col6,#T_a1baa75c_84e4_11eb_8cf9_0068ebda5a45row6_col4,#T_a1baa75c_84e4_11eb_8cf9_0068ebda5a45row7_col3{\n",
       "            background-color:  #ba162b;\n",
       "            color:  #f1f1f1;\n",
       "        }#T_a1baa75c_84e4_11eb_8cf9_0068ebda5a45row3_col8,#T_a1baa75c_84e4_11eb_8cf9_0068ebda5a45row4_col8,#T_a1baa75c_84e4_11eb_8cf9_0068ebda5a45row8_col3,#T_a1baa75c_84e4_11eb_8cf9_0068ebda5a45row8_col4{\n",
       "            background-color:  #ee8468;\n",
       "            color:  #000000;\n",
       "        }#T_a1baa75c_84e4_11eb_8cf9_0068ebda5a45row3_col9,#T_a1baa75c_84e4_11eb_8cf9_0068ebda5a45row8_col9,#T_a1baa75c_84e4_11eb_8cf9_0068ebda5a45row9_col3,#T_a1baa75c_84e4_11eb_8cf9_0068ebda5a45row9_col8{\n",
       "            background-color:  #ead4c8;\n",
       "            color:  #000000;\n",
       "        }#T_a1baa75c_84e4_11eb_8cf9_0068ebda5a45row4_col9,#T_a1baa75c_84e4_11eb_8cf9_0068ebda5a45row9_col4{\n",
       "            background-color:  #f0cdbb;\n",
       "            color:  #000000;\n",
       "        }#T_a1baa75c_84e4_11eb_8cf9_0068ebda5a45row5_col7,#T_a1baa75c_84e4_11eb_8cf9_0068ebda5a45row7_col5{\n",
       "            background-color:  #dadce0;\n",
       "            color:  #000000;\n",
       "        }#T_a1baa75c_84e4_11eb_8cf9_0068ebda5a45row5_col8,#T_a1baa75c_84e4_11eb_8cf9_0068ebda5a45row8_col5{\n",
       "            background-color:  #d2dbe8;\n",
       "            color:  #000000;\n",
       "        }#T_a1baa75c_84e4_11eb_8cf9_0068ebda5a45row5_col9,#T_a1baa75c_84e4_11eb_8cf9_0068ebda5a45row9_col5{\n",
       "            background-color:  #cfdaea;\n",
       "            color:  #000000;\n",
       "        }#T_a1baa75c_84e4_11eb_8cf9_0068ebda5a45row6_col7,#T_a1baa75c_84e4_11eb_8cf9_0068ebda5a45row7_col6{\n",
       "            background-color:  #c83836;\n",
       "            color:  #f1f1f1;\n",
       "        }#T_a1baa75c_84e4_11eb_8cf9_0068ebda5a45row6_col8,#T_a1baa75c_84e4_11eb_8cf9_0068ebda5a45row8_col6{\n",
       "            background-color:  #f39577;\n",
       "            color:  #000000;\n",
       "        }#T_a1baa75c_84e4_11eb_8cf9_0068ebda5a45row6_col9,#T_a1baa75c_84e4_11eb_8cf9_0068ebda5a45row9_col6{\n",
       "            background-color:  #f2cab5;\n",
       "            color:  #000000;\n",
       "        }</style><table id=\"T_a1baa75c_84e4_11eb_8cf9_0068ebda5a45\" ><thead>    <tr>        <th class=\"blank level0\" ></th>        <th class=\"col_heading level0 col0\" >original</th>        <th class=\"col_heading level0 col1\" >negative</th>        <th class=\"col_heading level0 col2\" >double</th>        <th class=\"col_heading level0 col3\" >squared</th>        <th class=\"col_heading level0 col4\" >root</th>        <th class=\"col_heading level0 col5\" >exp</th>        <th class=\"col_heading level0 col6\" >log</th>        <th class=\"col_heading level0 col7\" >noiseSmall</th>        <th class=\"col_heading level0 col8\" >noiseMedium</th>        <th class=\"col_heading level0 col9\" >noiseHeavy</th>    </tr></thead><tbody>\n",
       "                <tr>\n",
       "                        <th id=\"T_a1baa75c_84e4_11eb_8cf9_0068ebda5a45level0_row0\" class=\"row_heading level0 row0\" >original</th>\n",
       "                        <td id=\"T_a1baa75c_84e4_11eb_8cf9_0068ebda5a45row0_col0\" class=\"data row0 col0\" >1.00</td>\n",
       "                        <td id=\"T_a1baa75c_84e4_11eb_8cf9_0068ebda5a45row0_col1\" class=\"data row0 col1\" >-1.00</td>\n",
       "                        <td id=\"T_a1baa75c_84e4_11eb_8cf9_0068ebda5a45row0_col2\" class=\"data row0 col2\" >1.00</td>\n",
       "                        <td id=\"T_a1baa75c_84e4_11eb_8cf9_0068ebda5a45row0_col3\" class=\"data row0 col3\" >0.97</td>\n",
       "                        <td id=\"T_a1baa75c_84e4_11eb_8cf9_0068ebda5a45row0_col4\" class=\"data row0 col4\" >0.98</td>\n",
       "                        <td id=\"T_a1baa75c_84e4_11eb_8cf9_0068ebda5a45row0_col5\" class=\"data row0 col5\" >-0.01</td>\n",
       "                        <td id=\"T_a1baa75c_84e4_11eb_8cf9_0068ebda5a45row0_col6\" class=\"data row0 col6\" >0.90</td>\n",
       "                        <td id=\"T_a1baa75c_84e4_11eb_8cf9_0068ebda5a45row0_col7\" class=\"data row0 col7\" >0.99</td>\n",
       "                        <td id=\"T_a1baa75c_84e4_11eb_8cf9_0068ebda5a45row0_col8\" class=\"data row0 col8\" >0.61</td>\n",
       "                        <td id=\"T_a1baa75c_84e4_11eb_8cf9_0068ebda5a45row0_col9\" class=\"data row0 col9\" >0.15</td>\n",
       "            </tr>\n",
       "            <tr>\n",
       "                        <th id=\"T_a1baa75c_84e4_11eb_8cf9_0068ebda5a45level0_row1\" class=\"row_heading level0 row1\" >negative</th>\n",
       "                        <td id=\"T_a1baa75c_84e4_11eb_8cf9_0068ebda5a45row1_col0\" class=\"data row1 col0\" >-1.00</td>\n",
       "                        <td id=\"T_a1baa75c_84e4_11eb_8cf9_0068ebda5a45row1_col1\" class=\"data row1 col1\" >1.00</td>\n",
       "                        <td id=\"T_a1baa75c_84e4_11eb_8cf9_0068ebda5a45row1_col2\" class=\"data row1 col2\" >-1.00</td>\n",
       "                        <td id=\"T_a1baa75c_84e4_11eb_8cf9_0068ebda5a45row1_col3\" class=\"data row1 col3\" >-0.97</td>\n",
       "                        <td id=\"T_a1baa75c_84e4_11eb_8cf9_0068ebda5a45row1_col4\" class=\"data row1 col4\" >-0.98</td>\n",
       "                        <td id=\"T_a1baa75c_84e4_11eb_8cf9_0068ebda5a45row1_col5\" class=\"data row1 col5\" >0.01</td>\n",
       "                        <td id=\"T_a1baa75c_84e4_11eb_8cf9_0068ebda5a45row1_col6\" class=\"data row1 col6\" >-0.90</td>\n",
       "                        <td id=\"T_a1baa75c_84e4_11eb_8cf9_0068ebda5a45row1_col7\" class=\"data row1 col7\" >-0.99</td>\n",
       "                        <td id=\"T_a1baa75c_84e4_11eb_8cf9_0068ebda5a45row1_col8\" class=\"data row1 col8\" >-0.61</td>\n",
       "                        <td id=\"T_a1baa75c_84e4_11eb_8cf9_0068ebda5a45row1_col9\" class=\"data row1 col9\" >-0.15</td>\n",
       "            </tr>\n",
       "            <tr>\n",
       "                        <th id=\"T_a1baa75c_84e4_11eb_8cf9_0068ebda5a45level0_row2\" class=\"row_heading level0 row2\" >double</th>\n",
       "                        <td id=\"T_a1baa75c_84e4_11eb_8cf9_0068ebda5a45row2_col0\" class=\"data row2 col0\" >1.00</td>\n",
       "                        <td id=\"T_a1baa75c_84e4_11eb_8cf9_0068ebda5a45row2_col1\" class=\"data row2 col1\" >-1.00</td>\n",
       "                        <td id=\"T_a1baa75c_84e4_11eb_8cf9_0068ebda5a45row2_col2\" class=\"data row2 col2\" >1.00</td>\n",
       "                        <td id=\"T_a1baa75c_84e4_11eb_8cf9_0068ebda5a45row2_col3\" class=\"data row2 col3\" >0.97</td>\n",
       "                        <td id=\"T_a1baa75c_84e4_11eb_8cf9_0068ebda5a45row2_col4\" class=\"data row2 col4\" >0.98</td>\n",
       "                        <td id=\"T_a1baa75c_84e4_11eb_8cf9_0068ebda5a45row2_col5\" class=\"data row2 col5\" >-0.01</td>\n",
       "                        <td id=\"T_a1baa75c_84e4_11eb_8cf9_0068ebda5a45row2_col6\" class=\"data row2 col6\" >0.90</td>\n",
       "                        <td id=\"T_a1baa75c_84e4_11eb_8cf9_0068ebda5a45row2_col7\" class=\"data row2 col7\" >0.99</td>\n",
       "                        <td id=\"T_a1baa75c_84e4_11eb_8cf9_0068ebda5a45row2_col8\" class=\"data row2 col8\" >0.61</td>\n",
       "                        <td id=\"T_a1baa75c_84e4_11eb_8cf9_0068ebda5a45row2_col9\" class=\"data row2 col9\" >0.15</td>\n",
       "            </tr>\n",
       "            <tr>\n",
       "                        <th id=\"T_a1baa75c_84e4_11eb_8cf9_0068ebda5a45level0_row3\" class=\"row_heading level0 row3\" >squared</th>\n",
       "                        <td id=\"T_a1baa75c_84e4_11eb_8cf9_0068ebda5a45row3_col0\" class=\"data row3 col0\" >0.97</td>\n",
       "                        <td id=\"T_a1baa75c_84e4_11eb_8cf9_0068ebda5a45row3_col1\" class=\"data row3 col1\" >-0.97</td>\n",
       "                        <td id=\"T_a1baa75c_84e4_11eb_8cf9_0068ebda5a45row3_col2\" class=\"data row3 col2\" >0.97</td>\n",
       "                        <td id=\"T_a1baa75c_84e4_11eb_8cf9_0068ebda5a45row3_col3\" class=\"data row3 col3\" >1.00</td>\n",
       "                        <td id=\"T_a1baa75c_84e4_11eb_8cf9_0068ebda5a45row3_col4\" class=\"data row3 col4\" >0.91</td>\n",
       "                        <td id=\"T_a1baa75c_84e4_11eb_8cf9_0068ebda5a45row3_col5\" class=\"data row3 col5\" >-0.01</td>\n",
       "                        <td id=\"T_a1baa75c_84e4_11eb_8cf9_0068ebda5a45row3_col6\" class=\"data row3 col6\" >0.78</td>\n",
       "                        <td id=\"T_a1baa75c_84e4_11eb_8cf9_0068ebda5a45row3_col7\" class=\"data row3 col7\" >0.97</td>\n",
       "                        <td id=\"T_a1baa75c_84e4_11eb_8cf9_0068ebda5a45row3_col8\" class=\"data row3 col8\" >0.60</td>\n",
       "                        <td id=\"T_a1baa75c_84e4_11eb_8cf9_0068ebda5a45row3_col9\" class=\"data row3 col9\" >0.12</td>\n",
       "            </tr>\n",
       "            <tr>\n",
       "                        <th id=\"T_a1baa75c_84e4_11eb_8cf9_0068ebda5a45level0_row4\" class=\"row_heading level0 row4\" >root</th>\n",
       "                        <td id=\"T_a1baa75c_84e4_11eb_8cf9_0068ebda5a45row4_col0\" class=\"data row4 col0\" >0.98</td>\n",
       "                        <td id=\"T_a1baa75c_84e4_11eb_8cf9_0068ebda5a45row4_col1\" class=\"data row4 col1\" >-0.98</td>\n",
       "                        <td id=\"T_a1baa75c_84e4_11eb_8cf9_0068ebda5a45row4_col2\" class=\"data row4 col2\" >0.98</td>\n",
       "                        <td id=\"T_a1baa75c_84e4_11eb_8cf9_0068ebda5a45row4_col3\" class=\"data row4 col3\" >0.91</td>\n",
       "                        <td id=\"T_a1baa75c_84e4_11eb_8cf9_0068ebda5a45row4_col4\" class=\"data row4 col4\" >1.00</td>\n",
       "                        <td id=\"T_a1baa75c_84e4_11eb_8cf9_0068ebda5a45row4_col5\" class=\"data row4 col5\" >-0.00</td>\n",
       "                        <td id=\"T_a1baa75c_84e4_11eb_8cf9_0068ebda5a45row4_col6\" class=\"data row4 col6\" >0.96</td>\n",
       "                        <td id=\"T_a1baa75c_84e4_11eb_8cf9_0068ebda5a45row4_col7\" class=\"data row4 col7\" >0.97</td>\n",
       "                        <td id=\"T_a1baa75c_84e4_11eb_8cf9_0068ebda5a45row4_col8\" class=\"data row4 col8\" >0.60</td>\n",
       "                        <td id=\"T_a1baa75c_84e4_11eb_8cf9_0068ebda5a45row4_col9\" class=\"data row4 col9\" >0.18</td>\n",
       "            </tr>\n",
       "            <tr>\n",
       "                        <th id=\"T_a1baa75c_84e4_11eb_8cf9_0068ebda5a45level0_row5\" class=\"row_heading level0 row5\" >exp</th>\n",
       "                        <td id=\"T_a1baa75c_84e4_11eb_8cf9_0068ebda5a45row5_col0\" class=\"data row5 col0\" >-0.01</td>\n",
       "                        <td id=\"T_a1baa75c_84e4_11eb_8cf9_0068ebda5a45row5_col1\" class=\"data row5 col1\" >0.01</td>\n",
       "                        <td id=\"T_a1baa75c_84e4_11eb_8cf9_0068ebda5a45row5_col2\" class=\"data row5 col2\" >-0.01</td>\n",
       "                        <td id=\"T_a1baa75c_84e4_11eb_8cf9_0068ebda5a45row5_col3\" class=\"data row5 col3\" >-0.01</td>\n",
       "                        <td id=\"T_a1baa75c_84e4_11eb_8cf9_0068ebda5a45row5_col4\" class=\"data row5 col4\" >-0.00</td>\n",
       "                        <td id=\"T_a1baa75c_84e4_11eb_8cf9_0068ebda5a45row5_col5\" class=\"data row5 col5\" >1.00</td>\n",
       "                        <td id=\"T_a1baa75c_84e4_11eb_8cf9_0068ebda5a45row5_col6\" class=\"data row5 col6\" >-0.00</td>\n",
       "                        <td id=\"T_a1baa75c_84e4_11eb_8cf9_0068ebda5a45row5_col7\" class=\"data row5 col7\" >-0.02</td>\n",
       "                        <td id=\"T_a1baa75c_84e4_11eb_8cf9_0068ebda5a45row5_col8\" class=\"data row5 col8\" >-0.08</td>\n",
       "                        <td id=\"T_a1baa75c_84e4_11eb_8cf9_0068ebda5a45row5_col9\" class=\"data row5 col9\" >-0.10</td>\n",
       "            </tr>\n",
       "            <tr>\n",
       "                        <th id=\"T_a1baa75c_84e4_11eb_8cf9_0068ebda5a45level0_row6\" class=\"row_heading level0 row6\" >log</th>\n",
       "                        <td id=\"T_a1baa75c_84e4_11eb_8cf9_0068ebda5a45row6_col0\" class=\"data row6 col0\" >0.90</td>\n",
       "                        <td id=\"T_a1baa75c_84e4_11eb_8cf9_0068ebda5a45row6_col1\" class=\"data row6 col1\" >-0.90</td>\n",
       "                        <td id=\"T_a1baa75c_84e4_11eb_8cf9_0068ebda5a45row6_col2\" class=\"data row6 col2\" >0.90</td>\n",
       "                        <td id=\"T_a1baa75c_84e4_11eb_8cf9_0068ebda5a45row6_col3\" class=\"data row6 col3\" >0.78</td>\n",
       "                        <td id=\"T_a1baa75c_84e4_11eb_8cf9_0068ebda5a45row6_col4\" class=\"data row6 col4\" >0.96</td>\n",
       "                        <td id=\"T_a1baa75c_84e4_11eb_8cf9_0068ebda5a45row6_col5\" class=\"data row6 col5\" >-0.00</td>\n",
       "                        <td id=\"T_a1baa75c_84e4_11eb_8cf9_0068ebda5a45row6_col6\" class=\"data row6 col6\" >1.00</td>\n",
       "                        <td id=\"T_a1baa75c_84e4_11eb_8cf9_0068ebda5a45row6_col7\" class=\"data row6 col7\" >0.89</td>\n",
       "                        <td id=\"T_a1baa75c_84e4_11eb_8cf9_0068ebda5a45row6_col8\" class=\"data row6 col8\" >0.52</td>\n",
       "                        <td id=\"T_a1baa75c_84e4_11eb_8cf9_0068ebda5a45row6_col9\" class=\"data row6 col9\" >0.21</td>\n",
       "            </tr>\n",
       "            <tr>\n",
       "                        <th id=\"T_a1baa75c_84e4_11eb_8cf9_0068ebda5a45level0_row7\" class=\"row_heading level0 row7\" >noiseSmall</th>\n",
       "                        <td id=\"T_a1baa75c_84e4_11eb_8cf9_0068ebda5a45row7_col0\" class=\"data row7 col0\" >0.99</td>\n",
       "                        <td id=\"T_a1baa75c_84e4_11eb_8cf9_0068ebda5a45row7_col1\" class=\"data row7 col1\" >-0.99</td>\n",
       "                        <td id=\"T_a1baa75c_84e4_11eb_8cf9_0068ebda5a45row7_col2\" class=\"data row7 col2\" >0.99</td>\n",
       "                        <td id=\"T_a1baa75c_84e4_11eb_8cf9_0068ebda5a45row7_col3\" class=\"data row7 col3\" >0.97</td>\n",
       "                        <td id=\"T_a1baa75c_84e4_11eb_8cf9_0068ebda5a45row7_col4\" class=\"data row7 col4\" >0.97</td>\n",
       "                        <td id=\"T_a1baa75c_84e4_11eb_8cf9_0068ebda5a45row7_col5\" class=\"data row7 col5\" >-0.02</td>\n",
       "                        <td id=\"T_a1baa75c_84e4_11eb_8cf9_0068ebda5a45row7_col6\" class=\"data row7 col6\" >0.89</td>\n",
       "                        <td id=\"T_a1baa75c_84e4_11eb_8cf9_0068ebda5a45row7_col7\" class=\"data row7 col7\" >1.00</td>\n",
       "                        <td id=\"T_a1baa75c_84e4_11eb_8cf9_0068ebda5a45row7_col8\" class=\"data row7 col8\" >0.61</td>\n",
       "                        <td id=\"T_a1baa75c_84e4_11eb_8cf9_0068ebda5a45row7_col9\" class=\"data row7 col9\" >0.16</td>\n",
       "            </tr>\n",
       "            <tr>\n",
       "                        <th id=\"T_a1baa75c_84e4_11eb_8cf9_0068ebda5a45level0_row8\" class=\"row_heading level0 row8\" >noiseMedium</th>\n",
       "                        <td id=\"T_a1baa75c_84e4_11eb_8cf9_0068ebda5a45row8_col0\" class=\"data row8 col0\" >0.61</td>\n",
       "                        <td id=\"T_a1baa75c_84e4_11eb_8cf9_0068ebda5a45row8_col1\" class=\"data row8 col1\" >-0.61</td>\n",
       "                        <td id=\"T_a1baa75c_84e4_11eb_8cf9_0068ebda5a45row8_col2\" class=\"data row8 col2\" >0.61</td>\n",
       "                        <td id=\"T_a1baa75c_84e4_11eb_8cf9_0068ebda5a45row8_col3\" class=\"data row8 col3\" >0.60</td>\n",
       "                        <td id=\"T_a1baa75c_84e4_11eb_8cf9_0068ebda5a45row8_col4\" class=\"data row8 col4\" >0.60</td>\n",
       "                        <td id=\"T_a1baa75c_84e4_11eb_8cf9_0068ebda5a45row8_col5\" class=\"data row8 col5\" >-0.08</td>\n",
       "                        <td id=\"T_a1baa75c_84e4_11eb_8cf9_0068ebda5a45row8_col6\" class=\"data row8 col6\" >0.52</td>\n",
       "                        <td id=\"T_a1baa75c_84e4_11eb_8cf9_0068ebda5a45row8_col7\" class=\"data row8 col7\" >0.61</td>\n",
       "                        <td id=\"T_a1baa75c_84e4_11eb_8cf9_0068ebda5a45row8_col8\" class=\"data row8 col8\" >1.00</td>\n",
       "                        <td id=\"T_a1baa75c_84e4_11eb_8cf9_0068ebda5a45row8_col9\" class=\"data row8 col9\" >0.11</td>\n",
       "            </tr>\n",
       "            <tr>\n",
       "                        <th id=\"T_a1baa75c_84e4_11eb_8cf9_0068ebda5a45level0_row9\" class=\"row_heading level0 row9\" >noiseHeavy</th>\n",
       "                        <td id=\"T_a1baa75c_84e4_11eb_8cf9_0068ebda5a45row9_col0\" class=\"data row9 col0\" >0.15</td>\n",
       "                        <td id=\"T_a1baa75c_84e4_11eb_8cf9_0068ebda5a45row9_col1\" class=\"data row9 col1\" >-0.15</td>\n",
       "                        <td id=\"T_a1baa75c_84e4_11eb_8cf9_0068ebda5a45row9_col2\" class=\"data row9 col2\" >0.15</td>\n",
       "                        <td id=\"T_a1baa75c_84e4_11eb_8cf9_0068ebda5a45row9_col3\" class=\"data row9 col3\" >0.12</td>\n",
       "                        <td id=\"T_a1baa75c_84e4_11eb_8cf9_0068ebda5a45row9_col4\" class=\"data row9 col4\" >0.18</td>\n",
       "                        <td id=\"T_a1baa75c_84e4_11eb_8cf9_0068ebda5a45row9_col5\" class=\"data row9 col5\" >-0.10</td>\n",
       "                        <td id=\"T_a1baa75c_84e4_11eb_8cf9_0068ebda5a45row9_col6\" class=\"data row9 col6\" >0.21</td>\n",
       "                        <td id=\"T_a1baa75c_84e4_11eb_8cf9_0068ebda5a45row9_col7\" class=\"data row9 col7\" >0.16</td>\n",
       "                        <td id=\"T_a1baa75c_84e4_11eb_8cf9_0068ebda5a45row9_col8\" class=\"data row9 col8\" >0.11</td>\n",
       "                        <td id=\"T_a1baa75c_84e4_11eb_8cf9_0068ebda5a45row9_col9\" class=\"data row9 col9\" >1.00</td>\n",
       "            </tr>\n",
       "    </tbody></table>"
      ],
      "text/plain": [
       "<pandas.io.formats.style.Styler at 0x2d8e45ae850>"
      ]
     },
     "execution_count": 13,
     "metadata": {},
     "output_type": "execute_result"
    }
   ],
   "source": [
    "exampleDataCorrelations = exampleDataFrame.corr()\n",
    "exampleDataCorrelations.style.background_gradient(cmap='coolwarm', axis=None).set_precision(2)"
   ]
  },
  {
   "cell_type": "code",
   "execution_count": 14,
   "metadata": {
    "scrolled": true
   },
   "outputs": [
    {
     "data": {
      "text/plain": [
       "<AxesSubplot:>"
      ]
     },
     "execution_count": 14,
     "metadata": {},
     "output_type": "execute_result"
    },
    {
     "data": {
      "image/png": "[encoded data removed]",
      "text/plain": [
       "<Figure size 1080x576 with 1 Axes>"
      ]
     },
     "metadata": {
      "needs_background": "light"
     },
     "output_type": "display_data"
    }
   ],
   "source": [
    "# Excluding a couple of columns because their values are too high to show in the same plot\n",
    "exampleDataFrame.drop(['exp', 'squared' , 'noiseHeavy'], axis=1).plot(figsize=(15,8))"
   ]
  },
  {
   "cell_type": "markdown",
   "metadata": {},
   "source": [
    "### Portfolio assignment 9\n",
    "25 min: Perform a bivariate analysis on the columns with numerical data in the penguins dataset.\n",
    "- Use corr() on the DataFrame to calculate all the correlations. Use the code example above to show the correlation table with colors.\n",
    "- Look at the corrrelations. Do they match your expectations?\n",
    "- Show a scatter plot for\n",
    " - The strongest positive correlation\n",
    " - The strongest negative correlation\n",
    " - The weakest correlation"
   ]
  },
  {
   "cell_type": "code",
   "execution_count": 15,
   "metadata": {},
   "outputs": [],
   "source": [
    "penguins = sns.load_dataset(\"penguins\")"
   ]
  },
  {
   "cell_type": "code",
   "execution_count": 16,
   "metadata": {},
   "outputs": [
    {
     "data": {
      "text/html": [
       "<div>\n",
       "<style scoped>\n",
       "    .dataframe tbody tr th:only-of-type {\n",
       "        vertical-align: middle;\n",
       "    }\n",
       "\n",
       "    .dataframe tbody tr th {\n",
       "        vertical-align: top;\n",
       "    }\n",
       "\n",
       "    .dataframe thead th {\n",
       "        text-align: right;\n",
       "    }\n",
       "</style>\n",
       "<table border=\"1\" class=\"dataframe\">\n",
       "  <thead>\n",
       "    <tr style=\"text-align: right;\">\n",
       "      <th></th>\n",
       "      <th>species</th>\n",
       "      <th>island</th>\n",
       "      <th>bill_length_mm</th>\n",
       "      <th>bill_depth_mm</th>\n",
       "      <th>flipper_length_mm</th>\n",
       "      <th>body_mass_g</th>\n",
       "      <th>sex</th>\n",
       "    </tr>\n",
       "  </thead>\n",
       "  <tbody>\n",
       "    <tr>\n",
       "      <th>0</th>\n",
       "      <td>Adelie</td>\n",
       "      <td>Torgersen</td>\n",
       "      <td>39.1</td>\n",
       "      <td>18.7</td>\n",
       "      <td>181.0</td>\n",
       "      <td>3750.0</td>\n",
       "      <td>Male</td>\n",
       "    </tr>\n",
       "    <tr>\n",
       "      <th>1</th>\n",
       "      <td>Adelie</td>\n",
       "      <td>Torgersen</td>\n",
       "      <td>39.5</td>\n",
       "      <td>17.4</td>\n",
       "      <td>186.0</td>\n",
       "      <td>3800.0</td>\n",
       "      <td>Female</td>\n",
       "    </tr>\n",
       "    <tr>\n",
       "      <th>2</th>\n",
       "      <td>Adelie</td>\n",
       "      <td>Torgersen</td>\n",
       "      <td>40.3</td>\n",
       "      <td>18.0</td>\n",
       "      <td>195.0</td>\n",
       "      <td>3250.0</td>\n",
       "      <td>Female</td>\n",
       "    </tr>\n",
       "    <tr>\n",
       "      <th>3</th>\n",
       "      <td>Adelie</td>\n",
       "      <td>Torgersen</td>\n",
       "      <td>NaN</td>\n",
       "      <td>NaN</td>\n",
       "      <td>NaN</td>\n",
       "      <td>NaN</td>\n",
       "      <td>NaN</td>\n",
       "    </tr>\n",
       "    <tr>\n",
       "      <th>4</th>\n",
       "      <td>Adelie</td>\n",
       "      <td>Torgersen</td>\n",
       "      <td>36.7</td>\n",
       "      <td>19.3</td>\n",
       "      <td>193.0</td>\n",
       "      <td>3450.0</td>\n",
       "      <td>Female</td>\n",
       "    </tr>\n",
       "  </tbody>\n",
       "</table>\n",
       "</div>"
      ],
      "text/plain": [
       "  species     island  bill_length_mm  bill_depth_mm  flipper_length_mm  \\\n",
       "0  Adelie  Torgersen            39.1           18.7              181.0   \n",
       "1  Adelie  Torgersen            39.5           17.4              186.0   \n",
       "2  Adelie  Torgersen            40.3           18.0              195.0   \n",
       "3  Adelie  Torgersen             NaN            NaN                NaN   \n",
       "4  Adelie  Torgersen            36.7           19.3              193.0   \n",
       "\n",
       "   body_mass_g     sex  \n",
       "0       3750.0    Male  \n",
       "1       3800.0  Female  \n",
       "2       3250.0  Female  \n",
       "3          NaN     NaN  \n",
       "4       3450.0  Female  "
      ]
     },
     "execution_count": 16,
     "metadata": {},
     "output_type": "execute_result"
    }
   ],
   "source": [
    "penguins.head()"
   ]
  },
  {
   "cell_type": "markdown",
   "metadata": {},
   "source": [
    "![](https://www.galapagos.org/wp-content/uploads/2019/04/PenguinMeasurements_BLOGv3.png)"
   ]
  },
  {
   "cell_type": "markdown",
   "metadata": {},
   "source": [
    "![](https://i.imgur.com/0v1CGNV.png)"
   ]
  },
  {
   "cell_type": "markdown",
   "metadata": {},
   "source": [
    "### Portfolio assignment 10\n",
    "15 min: Perform a bivariate analysis (Pearson correlation and scatter plot) on at least 1 combination of 2 columns with numeric data in the dataset that you chose in portfolio assignment 4. Does the correlation and scatter plot match your expectations? Add your answer to your notebook. Commit the Notebook to your portfolio when you're finished. "
   ]
  },
  {
   "cell_type": "markdown",
   "metadata": {},
   "source": [
    "![](https://i.imgur.com/0v1CGNV.png)"
   ]
  },
  {
   "cell_type": "markdown",
   "metadata": {},
   "source": [
    "## Numerical VS Categorical"
   ]
  },
  {
   "cell_type": "markdown",
   "metadata": {},
   "source": [
    "Examples:\n",
    "- Monthly earnings VS Highest obtained degree\n",
    "- Body length VS Country of origin\n",
    "- Happiness rating VS Country of origin\n",
    "- Sales VS Account Manager. \n",
    "- Revenue VS Product Category\n",
    "- Revenue VS Game genre\n",
    "- Retention VS Software version\n",
    "- ..."
   ]
  },
  {
   "cell_type": "markdown",
   "metadata": {},
   "source": [
    "In univariate analysis for numerical data we've looked at confidence intervals. We can use these to check if there are any signicant differences between categories."
   ]
  },
  {
   "cell_type": "markdown",
   "metadata": {},
   "source": [
    "You and I are are going to roll a 6-sided die. The numerical variable is the value we roll and the categorical variable is who rolled it. We know that in reality the average value of a 6-sided die is 3.5 (=(1+2+3+4+5+6)/6). We know that there is no skill involved, so who rolls the die should have no impact on the result. We each roll the die 3 times.\n",
    "    <img src=\"https://wherethewindsblow.com/wp-content/uploads/2015/07/JUMBO-Six-sided-white-dice.jpg\" style=\"width: 300px;\"/>"
   ]
  },
  {
   "cell_type": "code",
   "execution_count": 17,
   "metadata": {
    "scrolled": true
   },
   "outputs": [
    {
     "data": {
      "text/html": [
       "<div>\n",
       "<style scoped>\n",
       "    .dataframe tbody tr th:only-of-type {\n",
       "        vertical-align: middle;\n",
       "    }\n",
       "\n",
       "    .dataframe tbody tr th {\n",
       "        vertical-align: top;\n",
       "    }\n",
       "\n",
       "    .dataframe thead th {\n",
       "        text-align: right;\n",
       "    }\n",
       "</style>\n",
       "<table border=\"1\" class=\"dataframe\">\n",
       "  <thead>\n",
       "    <tr style=\"text-align: right;\">\n",
       "      <th></th>\n",
       "      <th>Person</th>\n",
       "      <th>Rolls</th>\n",
       "    </tr>\n",
       "  </thead>\n",
       "  <tbody>\n",
       "    <tr>\n",
       "      <th>0</th>\n",
       "      <td>you</td>\n",
       "      <td>6</td>\n",
       "    </tr>\n",
       "    <tr>\n",
       "      <th>1</th>\n",
       "      <td>you</td>\n",
       "      <td>3</td>\n",
       "    </tr>\n",
       "    <tr>\n",
       "      <th>2</th>\n",
       "      <td>you</td>\n",
       "      <td>6</td>\n",
       "    </tr>\n",
       "    <tr>\n",
       "      <th>3</th>\n",
       "      <td>me</td>\n",
       "      <td>2</td>\n",
       "    </tr>\n",
       "    <tr>\n",
       "      <th>4</th>\n",
       "      <td>me</td>\n",
       "      <td>4</td>\n",
       "    </tr>\n",
       "    <tr>\n",
       "      <th>5</th>\n",
       "      <td>me</td>\n",
       "      <td>2</td>\n",
       "    </tr>\n",
       "  </tbody>\n",
       "</table>\n",
       "</div>"
      ],
      "text/plain": [
       "  Person  Rolls\n",
       "0    you      6\n",
       "1    you      3\n",
       "2    you      6\n",
       "3     me      2\n",
       "4     me      4\n",
       "5     me      2"
      ]
     },
     "execution_count": 17,
     "metadata": {},
     "output_type": "execute_result"
    }
   ],
   "source": [
    "diceRolls = pd.DataFrame(data= {'Person': ['you', 'you', 'you', 'me','me','me'], 'Rolls': [6,3,6,2,4,2]})\n",
    "diceRolls"
   ]
  },
  {
   "cell_type": "code",
   "execution_count": 18,
   "metadata": {
    "scrolled": true
   },
   "outputs": [
    {
     "data": {
      "text/html": [
       "<div>\n",
       "<style scoped>\n",
       "    .dataframe tbody tr th:only-of-type {\n",
       "        vertical-align: middle;\n",
       "    }\n",
       "\n",
       "    .dataframe tbody tr th {\n",
       "        vertical-align: top;\n",
       "    }\n",
       "\n",
       "    .dataframe thead th {\n",
       "        text-align: right;\n",
       "    }\n",
       "</style>\n",
       "<table border=\"1\" class=\"dataframe\">\n",
       "  <thead>\n",
       "    <tr style=\"text-align: right;\">\n",
       "      <th></th>\n",
       "      <th>Rolls</th>\n",
       "    </tr>\n",
       "    <tr>\n",
       "      <th>Person</th>\n",
       "      <th></th>\n",
       "    </tr>\n",
       "  </thead>\n",
       "  <tbody>\n",
       "    <tr>\n",
       "      <th>me</th>\n",
       "      <td>2.666667</td>\n",
       "    </tr>\n",
       "    <tr>\n",
       "      <th>you</th>\n",
       "      <td>5.000000</td>\n",
       "    </tr>\n",
       "  </tbody>\n",
       "</table>\n",
       "</div>"
      ],
      "text/plain": [
       "           Rolls\n",
       "Person          \n",
       "me      2.666667\n",
       "you     5.000000"
      ]
     },
     "execution_count": 18,
     "metadata": {},
     "output_type": "execute_result"
    }
   ],
   "source": [
    "diceRolls.groupby(by=\"Person\").mean()"
   ]
  },
  {
   "cell_type": "markdown",
   "metadata": {},
   "source": [
    "Looks like you rolled an average value of 5 and I rolled an average value of ~2.7. Does this mean you are better at rolling dice than me?"
   ]
  },
  {
   "cell_type": "code",
   "execution_count": 19,
   "metadata": {
    "scrolled": true
   },
   "outputs": [
    {
     "data": {
      "text/plain": [
       "<AxesSubplot:xlabel='Person', ylabel='Rolls'>"
      ]
     },
     "execution_count": 19,
     "metadata": {},
     "output_type": "execute_result"
    },
    {
     "data": {
      "image/png": "[encoded data removed]",
      "text/plain": [
       "<Figure size 432x288 with 1 Axes>"
      ]
     },
     "metadata": {
      "needs_background": "light"
     },
     "output_type": "display_data"
    }
   ],
   "source": [
    "sns.barplot(x=\"Person\", y=\"Rolls\", data=diceRolls)"
   ]
  },
  {
   "cell_type": "markdown",
   "metadata": {},
   "source": [
    "The confidence intervals overlap. This means that we can not yet be sure that you're a better dice roller than me. If we want the confidence intervals to become smaller, we'll need more data which means we need to do more dice rolls."
   ]
  },
  {
   "cell_type": "markdown",
   "metadata": {},
   "source": [
    "Let's look if there are significant difference between iris species."
   ]
  },
  {
   "cell_type": "code",
   "execution_count": 20,
   "metadata": {},
   "outputs": [
    {
     "data": {
      "text/html": [
       "<div>\n",
       "<style scoped>\n",
       "    .dataframe tbody tr th:only-of-type {\n",
       "        vertical-align: middle;\n",
       "    }\n",
       "\n",
       "    .dataframe tbody tr th {\n",
       "        vertical-align: top;\n",
       "    }\n",
       "\n",
       "    .dataframe thead th {\n",
       "        text-align: right;\n",
       "    }\n",
       "</style>\n",
       "<table border=\"1\" class=\"dataframe\">\n",
       "  <thead>\n",
       "    <tr style=\"text-align: right;\">\n",
       "      <th></th>\n",
       "      <th>sepal_length</th>\n",
       "      <th>sepal_width</th>\n",
       "      <th>petal_length</th>\n",
       "      <th>petal_width</th>\n",
       "      <th>species</th>\n",
       "    </tr>\n",
       "  </thead>\n",
       "  <tbody>\n",
       "    <tr>\n",
       "      <th>0</th>\n",
       "      <td>5.1</td>\n",
       "      <td>3.5</td>\n",
       "      <td>1.4</td>\n",
       "      <td>0.2</td>\n",
       "      <td>setosa</td>\n",
       "    </tr>\n",
       "    <tr>\n",
       "      <th>1</th>\n",
       "      <td>4.9</td>\n",
       "      <td>3.0</td>\n",
       "      <td>1.4</td>\n",
       "      <td>0.2</td>\n",
       "      <td>setosa</td>\n",
       "    </tr>\n",
       "    <tr>\n",
       "      <th>2</th>\n",
       "      <td>4.7</td>\n",
       "      <td>3.2</td>\n",
       "      <td>1.3</td>\n",
       "      <td>0.2</td>\n",
       "      <td>setosa</td>\n",
       "    </tr>\n",
       "    <tr>\n",
       "      <th>3</th>\n",
       "      <td>4.6</td>\n",
       "      <td>3.1</td>\n",
       "      <td>1.5</td>\n",
       "      <td>0.2</td>\n",
       "      <td>setosa</td>\n",
       "    </tr>\n",
       "    <tr>\n",
       "      <th>4</th>\n",
       "      <td>5.0</td>\n",
       "      <td>3.6</td>\n",
       "      <td>1.4</td>\n",
       "      <td>0.2</td>\n",
       "      <td>setosa</td>\n",
       "    </tr>\n",
       "  </tbody>\n",
       "</table>\n",
       "</div>"
      ],
      "text/plain": [
       "   sepal_length  sepal_width  petal_length  petal_width species\n",
       "0           5.1          3.5           1.4          0.2  setosa\n",
       "1           4.9          3.0           1.4          0.2  setosa\n",
       "2           4.7          3.2           1.3          0.2  setosa\n",
       "3           4.6          3.1           1.5          0.2  setosa\n",
       "4           5.0          3.6           1.4          0.2  setosa"
      ]
     },
     "execution_count": 20,
     "metadata": {},
     "output_type": "execute_result"
    }
   ],
   "source": [
    "iris.head()"
   ]
  },
  {
   "cell_type": "code",
   "execution_count": 21,
   "metadata": {},
   "outputs": [
    {
     "data": {
      "text/html": [
       "<div>\n",
       "<style scoped>\n",
       "    .dataframe tbody tr th:only-of-type {\n",
       "        vertical-align: middle;\n",
       "    }\n",
       "\n",
       "    .dataframe tbody tr th {\n",
       "        vertical-align: top;\n",
       "    }\n",
       "\n",
       "    .dataframe thead th {\n",
       "        text-align: right;\n",
       "    }\n",
       "</style>\n",
       "<table border=\"1\" class=\"dataframe\">\n",
       "  <thead>\n",
       "    <tr style=\"text-align: right;\">\n",
       "      <th></th>\n",
       "      <th>sepal_length</th>\n",
       "      <th>sepal_width</th>\n",
       "      <th>petal_length</th>\n",
       "      <th>petal_width</th>\n",
       "    </tr>\n",
       "    <tr>\n",
       "      <th>species</th>\n",
       "      <th></th>\n",
       "      <th></th>\n",
       "      <th></th>\n",
       "      <th></th>\n",
       "    </tr>\n",
       "  </thead>\n",
       "  <tbody>\n",
       "    <tr>\n",
       "      <th>setosa</th>\n",
       "      <td>5.006</td>\n",
       "      <td>3.428</td>\n",
       "      <td>1.462</td>\n",
       "      <td>0.246</td>\n",
       "    </tr>\n",
       "    <tr>\n",
       "      <th>versicolor</th>\n",
       "      <td>5.936</td>\n",
       "      <td>2.770</td>\n",
       "      <td>4.260</td>\n",
       "      <td>1.326</td>\n",
       "    </tr>\n",
       "    <tr>\n",
       "      <th>virginica</th>\n",
       "      <td>6.588</td>\n",
       "      <td>2.974</td>\n",
       "      <td>5.552</td>\n",
       "      <td>2.026</td>\n",
       "    </tr>\n",
       "  </tbody>\n",
       "</table>\n",
       "</div>"
      ],
      "text/plain": [
       "            sepal_length  sepal_width  petal_length  petal_width\n",
       "species                                                         \n",
       "setosa             5.006        3.428         1.462        0.246\n",
       "versicolor         5.936        2.770         4.260        1.326\n",
       "virginica          6.588        2.974         5.552        2.026"
      ]
     },
     "execution_count": 21,
     "metadata": {},
     "output_type": "execute_result"
    }
   ],
   "source": [
    "iris.groupby('species').mean()"
   ]
  },
  {
   "cell_type": "code",
   "execution_count": 22,
   "metadata": {},
   "outputs": [],
   "source": [
    "numericalColumnToCheck = \"sepal\""
   ]
  },
  {
   "cell_type": "code",
   "execution_count": 23,
   "metadata": {},
   "outputs": [
    {
     "data": {
      "text/plain": [
       "<AxesSubplot:xlabel='species', ylabel='sepal_length'>"
      ]
     },
     "execution_count": 23,
     "metadata": {},
     "output_type": "execute_result"
    },
    {
     "data": {
      "image/png": "[encoded data removed]",
      "text/plain": [
       "<Figure size 432x288 with 1 Axes>"
      ]
     },
     "metadata": {
      "needs_background": "light"
     },
     "output_type": "display_data"
    }
   ],
   "source": [
    "sns.barplot(y=\"sepal_length\", x=\"species\", data=iris) \n",
    "# Add parameter ci if you want to change certainty of confidence interval. \n",
    "# For example ci = 99 for 99% certainty.\n",
    "# The default is 95%"
   ]
  },
  {
   "cell_type": "code",
   "execution_count": 24,
   "metadata": {},
   "outputs": [
    {
     "data": {
      "text/plain": [
       "<AxesSubplot:xlabel='species', ylabel='sepal_width'>"
      ]
     },
     "execution_count": 24,
     "metadata": {},
     "output_type": "execute_result"
    },
    {
     "data": {
      "image/png": "[encoded data removed]",
      "text/plain": [
       "<Figure size 432x288 with 1 Axes>"
      ]
     },
     "metadata": {
      "needs_background": "light"
     },
     "output_type": "display_data"
    }
   ],
   "source": [
    "sns.barplot(y=\"sepal_width\", x=\"species\", data=iris)"
   ]
  },
  {
   "cell_type": "code",
   "execution_count": 25,
   "metadata": {},
   "outputs": [
    {
     "data": {
      "text/plain": [
       "<AxesSubplot:xlabel='species', ylabel='petal_length'>"
      ]
     },
     "execution_count": 25,
     "metadata": {},
     "output_type": "execute_result"
    },
    {
     "data": {
      "image/png": "[encoded data removed]",
      "text/plain": [
       "<Figure size 432x288 with 1 Axes>"
      ]
     },
     "metadata": {
      "needs_background": "light"
     },
     "output_type": "display_data"
    }
   ],
   "source": [
    "sns.barplot(y=\"petal_length\", x=\"species\", data=iris)"
   ]
  },
  {
   "cell_type": "code",
   "execution_count": 26,
   "metadata": {},
   "outputs": [
    {
     "data": {
      "text/plain": [
       "<AxesSubplot:xlabel='species', ylabel='petal_width'>"
      ]
     },
     "execution_count": 26,
     "metadata": {},
     "output_type": "execute_result"
    },
    {
     "data": {
      "image/png": "[encoded data removed]",
      "text/plain": [
       "<Figure size 432x288 with 1 Axes>"
      ]
     },
     "metadata": {
      "needs_background": "light"
     },
     "output_type": "display_data"
    }
   ],
   "source": [
    "sns.barplot(y=\"petal_width\", x=\"species\", data=iris)"
   ]
  },
  {
   "cell_type": "markdown",
   "metadata": {},
   "source": [
    "### Portfolio assignment 11\n",
    "20 min: Do a Numerical VS Categorical bivariate analysis on the penguins dataset.\n",
    "- Choose one of the categorical columns: species, island or sex\n",
    "- use .groupby('<columnname>').mean() too look at the means of the numerical columns. Does it look like there is a difference between categories?\n",
    "- Use the seaborn barplot to plot the mean and confidence. Create this plot for each of the numerical columns (bill_length_mm\tbill_depth_mm, flipper_length_mm, body_mass_g)\n",
    "- For each of the plots, write a conclusion: Is there a statistically significant difference for this numerical column for each category?\n",
    "- Optional: Repeat this proces for the other two categorical columns"
   ]
  },
  {
   "cell_type": "code",
   "execution_count": 27,
   "metadata": {},
   "outputs": [
    {
     "data": {
      "text/html": [
       "<div>\n",
       "<style scoped>\n",
       "    .dataframe tbody tr th:only-of-type {\n",
       "        vertical-align: middle;\n",
       "    }\n",
       "\n",
       "    .dataframe tbody tr th {\n",
       "        vertical-align: top;\n",
       "    }\n",
       "\n",
       "    .dataframe thead th {\n",
       "        text-align: right;\n",
       "    }\n",
       "</style>\n",
       "<table border=\"1\" class=\"dataframe\">\n",
       "  <thead>\n",
       "    <tr style=\"text-align: right;\">\n",
       "      <th></th>\n",
       "      <th>species</th>\n",
       "      <th>island</th>\n",
       "      <th>bill_length_mm</th>\n",
       "      <th>bill_depth_mm</th>\n",
       "      <th>flipper_length_mm</th>\n",
       "      <th>body_mass_g</th>\n",
       "      <th>sex</th>\n",
       "    </tr>\n",
       "  </thead>\n",
       "  <tbody>\n",
       "    <tr>\n",
       "      <th>0</th>\n",
       "      <td>Adelie</td>\n",
       "      <td>Torgersen</td>\n",
       "      <td>39.1</td>\n",
       "      <td>18.7</td>\n",
       "      <td>181.0</td>\n",
       "      <td>3750.0</td>\n",
       "      <td>Male</td>\n",
       "    </tr>\n",
       "    <tr>\n",
       "      <th>1</th>\n",
       "      <td>Adelie</td>\n",
       "      <td>Torgersen</td>\n",
       "      <td>39.5</td>\n",
       "      <td>17.4</td>\n",
       "      <td>186.0</td>\n",
       "      <td>3800.0</td>\n",
       "      <td>Female</td>\n",
       "    </tr>\n",
       "    <tr>\n",
       "      <th>2</th>\n",
       "      <td>Adelie</td>\n",
       "      <td>Torgersen</td>\n",
       "      <td>40.3</td>\n",
       "      <td>18.0</td>\n",
       "      <td>195.0</td>\n",
       "      <td>3250.0</td>\n",
       "      <td>Female</td>\n",
       "    </tr>\n",
       "    <tr>\n",
       "      <th>3</th>\n",
       "      <td>Adelie</td>\n",
       "      <td>Torgersen</td>\n",
       "      <td>NaN</td>\n",
       "      <td>NaN</td>\n",
       "      <td>NaN</td>\n",
       "      <td>NaN</td>\n",
       "      <td>NaN</td>\n",
       "    </tr>\n",
       "    <tr>\n",
       "      <th>4</th>\n",
       "      <td>Adelie</td>\n",
       "      <td>Torgersen</td>\n",
       "      <td>36.7</td>\n",
       "      <td>19.3</td>\n",
       "      <td>193.0</td>\n",
       "      <td>3450.0</td>\n",
       "      <td>Female</td>\n",
       "    </tr>\n",
       "  </tbody>\n",
       "</table>\n",
       "</div>"
      ],
      "text/plain": [
       "  species     island  bill_length_mm  bill_depth_mm  flipper_length_mm  \\\n",
       "0  Adelie  Torgersen            39.1           18.7              181.0   \n",
       "1  Adelie  Torgersen            39.5           17.4              186.0   \n",
       "2  Adelie  Torgersen            40.3           18.0              195.0   \n",
       "3  Adelie  Torgersen             NaN            NaN                NaN   \n",
       "4  Adelie  Torgersen            36.7           19.3              193.0   \n",
       "\n",
       "   body_mass_g     sex  \n",
       "0       3750.0    Male  \n",
       "1       3800.0  Female  \n",
       "2       3250.0  Female  \n",
       "3          NaN     NaN  \n",
       "4       3450.0  Female  "
      ]
     },
     "execution_count": 27,
     "metadata": {},
     "output_type": "execute_result"
    }
   ],
   "source": [
    "penguins.head()"
   ]
  },
  {
   "cell_type": "markdown",
   "metadata": {},
   "source": [
    "![](https://www.galapagos.org/wp-content/uploads/2019/04/PenguinMeasurements_BLOGv3.png)"
   ]
  },
  {
   "cell_type": "markdown",
   "metadata": {},
   "source": [
    "![](https://i.imgur.com/0v1CGNV.png)"
   ]
  },
  {
   "cell_type": "markdown",
   "metadata": {},
   "source": [
    "### Portfolio assignment 12\n",
    "30 min: Perform a bivariate analysis on at least 3 combinations of a numerical column with a categorical column in the dataset that you chose in portfolio assignment 4. Use <em>.groupby('columnname').mean()</em> to calculate the means. Is there a difference between categories? Then use seaborn barplots to check if there is a statistically significant difference. "
   ]
  },
  {
   "cell_type": "markdown",
   "metadata": {},
   "source": [
    "![](https://i.imgur.com/0v1CGNV.png)"
   ]
  },
  {
   "cell_type": "markdown",
   "metadata": {},
   "source": [
    "## Categorical VS Categorical"
   ]
  },
  {
   "cell_type": "markdown",
   "metadata": {},
   "source": [
    "Examples:\n",
    "- Inbound channel VS Type of customer\n",
    "- Education VS Job function\n",
    "- Region of citizen VS Who the citizen votes for\n",
    "- Color shirt of crew member in Stat Trek VS Does the crew member survive? (https://statisticsbyjim.com/hypothesis-testing/chi-square-test-independence-example/)\n",
    "- Customer newsletter subscription (Yes/No) VS Custom churn (Yes/No)\n",
    "- Penguin island VS Penguin species\n",
    "- ..."
   ]
  },
  {
   "cell_type": "code",
   "execution_count": 28,
   "metadata": {},
   "outputs": [
    {
     "data": {
      "text/html": [
       "<div>\n",
       "<style scoped>\n",
       "    .dataframe tbody tr th:only-of-type {\n",
       "        vertical-align: middle;\n",
       "    }\n",
       "\n",
       "    .dataframe tbody tr th {\n",
       "        vertical-align: top;\n",
       "    }\n",
       "\n",
       "    .dataframe thead th {\n",
       "        text-align: right;\n",
       "    }\n",
       "</style>\n",
       "<table border=\"1\" class=\"dataframe\">\n",
       "  <thead>\n",
       "    <tr style=\"text-align: right;\">\n",
       "      <th></th>\n",
       "      <th>species</th>\n",
       "      <th>island</th>\n",
       "      <th>bill_length_mm</th>\n",
       "      <th>bill_depth_mm</th>\n",
       "      <th>flipper_length_mm</th>\n",
       "      <th>body_mass_g</th>\n",
       "      <th>sex</th>\n",
       "    </tr>\n",
       "  </thead>\n",
       "  <tbody>\n",
       "    <tr>\n",
       "      <th>0</th>\n",
       "      <td>Adelie</td>\n",
       "      <td>Torgersen</td>\n",
       "      <td>39.1</td>\n",
       "      <td>18.7</td>\n",
       "      <td>181.0</td>\n",
       "      <td>3750.0</td>\n",
       "      <td>Male</td>\n",
       "    </tr>\n",
       "    <tr>\n",
       "      <th>1</th>\n",
       "      <td>Adelie</td>\n",
       "      <td>Torgersen</td>\n",
       "      <td>39.5</td>\n",
       "      <td>17.4</td>\n",
       "      <td>186.0</td>\n",
       "      <td>3800.0</td>\n",
       "      <td>Female</td>\n",
       "    </tr>\n",
       "    <tr>\n",
       "      <th>2</th>\n",
       "      <td>Adelie</td>\n",
       "      <td>Torgersen</td>\n",
       "      <td>40.3</td>\n",
       "      <td>18.0</td>\n",
       "      <td>195.0</td>\n",
       "      <td>3250.0</td>\n",
       "      <td>Female</td>\n",
       "    </tr>\n",
       "    <tr>\n",
       "      <th>3</th>\n",
       "      <td>Adelie</td>\n",
       "      <td>Torgersen</td>\n",
       "      <td>NaN</td>\n",
       "      <td>NaN</td>\n",
       "      <td>NaN</td>\n",
       "      <td>NaN</td>\n",
       "      <td>NaN</td>\n",
       "    </tr>\n",
       "    <tr>\n",
       "      <th>4</th>\n",
       "      <td>Adelie</td>\n",
       "      <td>Torgersen</td>\n",
       "      <td>36.7</td>\n",
       "      <td>19.3</td>\n",
       "      <td>193.0</td>\n",
       "      <td>3450.0</td>\n",
       "      <td>Female</td>\n",
       "    </tr>\n",
       "  </tbody>\n",
       "</table>\n",
       "</div>"
      ],
      "text/plain": [
       "  species     island  bill_length_mm  bill_depth_mm  flipper_length_mm  \\\n",
       "0  Adelie  Torgersen            39.1           18.7              181.0   \n",
       "1  Adelie  Torgersen            39.5           17.4              186.0   \n",
       "2  Adelie  Torgersen            40.3           18.0              195.0   \n",
       "3  Adelie  Torgersen             NaN            NaN                NaN   \n",
       "4  Adelie  Torgersen            36.7           19.3              193.0   \n",
       "\n",
       "   body_mass_g     sex  \n",
       "0       3750.0    Male  \n",
       "1       3800.0  Female  \n",
       "2       3250.0  Female  \n",
       "3          NaN     NaN  \n",
       "4       3450.0  Female  "
      ]
     },
     "execution_count": 28,
     "metadata": {},
     "output_type": "execute_result"
    }
   ],
   "source": [
    "penguins.head()"
   ]
  },
  {
   "cell_type": "code",
   "execution_count": 29,
   "metadata": {},
   "outputs": [
    {
     "data": {
      "text/plain": [
       "<AxesSubplot:>"
      ]
     },
     "execution_count": 29,
     "metadata": {},
     "output_type": "execute_result"
    },
    {
     "data": {
      "image/png": "[encoded data removed]",
      "text/plain": [
       "<Figure size 432x288 with 1 Axes>"
      ]
     },
     "metadata": {
      "needs_background": "light"
     },
     "output_type": "display_data"
    }
   ],
   "source": [
    "penguins.species.value_counts().plot(kind='bar')"
   ]
  },
  {
   "cell_type": "markdown",
   "metadata": {},
   "source": [
    "![](data:image/jpeg;base64,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)"
   ]
  },
  {
   "cell_type": "code",
   "execution_count": 30,
   "metadata": {},
   "outputs": [
    {
     "data": {
      "text/plain": [
       "<AxesSubplot:>"
      ]
     },
     "execution_count": 30,
     "metadata": {},
     "output_type": "execute_result"
    },
    {
     "data": {
      "image/png": "[encoded data removed]",
      "text/plain": [
       "<Figure size 432x288 with 1 Axes>"
      ]
     },
     "metadata": {
      "needs_background": "light"
     },
     "output_type": "display_data"
    }
   ],
   "source": [
    "penguins.island.value_counts().plot(kind='bar')"
   ]
  },
  {
   "cell_type": "code",
   "execution_count": 31,
   "metadata": {},
   "outputs": [
    {
     "data": {
      "text/html": [
       "<div>\n",
       "<style scoped>\n",
       "    .dataframe tbody tr th:only-of-type {\n",
       "        vertical-align: middle;\n",
       "    }\n",
       "\n",
       "    .dataframe tbody tr th {\n",
       "        vertical-align: top;\n",
       "    }\n",
       "\n",
       "    .dataframe thead th {\n",
       "        text-align: right;\n",
       "    }\n",
       "</style>\n",
       "<table border=\"1\" class=\"dataframe\">\n",
       "  <thead>\n",
       "    <tr style=\"text-align: right;\">\n",
       "      <th>species</th>\n",
       "      <th>Adelie</th>\n",
       "      <th>Chinstrap</th>\n",
       "      <th>Gentoo</th>\n",
       "    </tr>\n",
       "    <tr>\n",
       "      <th>island</th>\n",
       "      <th></th>\n",
       "      <th></th>\n",
       "      <th></th>\n",
       "    </tr>\n",
       "  </thead>\n",
       "  <tbody>\n",
       "    <tr>\n",
       "      <th>Biscoe</th>\n",
       "      <td>44</td>\n",
       "      <td>0</td>\n",
       "      <td>124</td>\n",
       "    </tr>\n",
       "    <tr>\n",
       "      <th>Dream</th>\n",
       "      <td>56</td>\n",
       "      <td>68</td>\n",
       "      <td>0</td>\n",
       "    </tr>\n",
       "    <tr>\n",
       "      <th>Torgersen</th>\n",
       "      <td>52</td>\n",
       "      <td>0</td>\n",
       "      <td>0</td>\n",
       "    </tr>\n",
       "  </tbody>\n",
       "</table>\n",
       "</div>"
      ],
      "text/plain": [
       "species    Adelie  Chinstrap  Gentoo\n",
       "island                              \n",
       "Biscoe         44          0     124\n",
       "Dream          56         68       0\n",
       "Torgersen      52          0       0"
      ]
     },
     "execution_count": 31,
     "metadata": {},
     "output_type": "execute_result"
    }
   ],
   "source": [
    "contingencyTable = penguins.groupby(['species','island']).size().unstack('species', fill_value=0)\n",
    "contingencyTable"
   ]
  },
  {
   "cell_type": "code",
   "execution_count": 32,
   "metadata": {},
   "outputs": [
    {
     "data": {
      "text/plain": [
       "<AxesSubplot:xlabel='island'>"
      ]
     },
     "execution_count": 32,
     "metadata": {},
     "output_type": "execute_result"
    },
    {
     "data": {
      "image/png": "[encoded data removed]",
      "text/plain": [
       "<Figure size 432x288 with 1 Axes>"
      ]
     },
     "metadata": {
      "needs_background": "light"
     },
     "output_type": "display_data"
    }
   ],
   "source": [
    "contingencyTable.plot(kind='bar')"
   ]
  },
  {
   "cell_type": "code",
   "execution_count": 33,
   "metadata": {},
   "outputs": [
    {
     "data": {
      "text/plain": [
       "(299.55032743148195,\n",
       " 1.3545738297192517e-63,\n",
       " 4,\n",
       " array([[74.23255814, 33.20930233, 60.55813953],\n",
       "        [54.79069767, 24.51162791, 44.69767442],\n",
       "        [22.97674419, 10.27906977, 18.74418605]]))"
      ]
     },
     "execution_count": 33,
     "metadata": {},
     "output_type": "execute_result"
    }
   ],
   "source": [
    "from scipy.stats import chi2_contingency\n",
    "chi2_contingency(contingencyTable)"
   ]
  },
  {
   "cell_type": "code",
   "execution_count": 34,
   "metadata": {},
   "outputs": [
    {
     "data": {
      "text/html": [
       "<div>\n",
       "<style scoped>\n",
       "    .dataframe tbody tr th:only-of-type {\n",
       "        vertical-align: middle;\n",
       "    }\n",
       "\n",
       "    .dataframe tbody tr th {\n",
       "        vertical-align: top;\n",
       "    }\n",
       "\n",
       "    .dataframe thead th {\n",
       "        text-align: right;\n",
       "    }\n",
       "</style>\n",
       "<table border=\"1\" class=\"dataframe\">\n",
       "  <thead>\n",
       "    <tr style=\"text-align: right;\">\n",
       "      <th></th>\n",
       "      <th>Person</th>\n",
       "      <th>Rolls</th>\n",
       "    </tr>\n",
       "  </thead>\n",
       "  <tbody>\n",
       "    <tr>\n",
       "      <th>0</th>\n",
       "      <td>you</td>\n",
       "      <td>6</td>\n",
       "    </tr>\n",
       "    <tr>\n",
       "      <th>1</th>\n",
       "      <td>you</td>\n",
       "      <td>3</td>\n",
       "    </tr>\n",
       "    <tr>\n",
       "      <th>2</th>\n",
       "      <td>you</td>\n",
       "      <td>6</td>\n",
       "    </tr>\n",
       "    <tr>\n",
       "      <th>3</th>\n",
       "      <td>me</td>\n",
       "      <td>2</td>\n",
       "    </tr>\n",
       "    <tr>\n",
       "      <th>4</th>\n",
       "      <td>me</td>\n",
       "      <td>4</td>\n",
       "    </tr>\n",
       "    <tr>\n",
       "      <th>5</th>\n",
       "      <td>me</td>\n",
       "      <td>2</td>\n",
       "    </tr>\n",
       "  </tbody>\n",
       "</table>\n",
       "</div>"
      ],
      "text/plain": [
       "  Person  Rolls\n",
       "0    you      6\n",
       "1    you      3\n",
       "2    you      6\n",
       "3     me      2\n",
       "4     me      4\n",
       "5     me      2"
      ]
     },
     "execution_count": 34,
     "metadata": {},
     "output_type": "execute_result"
    }
   ],
   "source": [
    "diceRolls"
   ]
  },
  {
   "cell_type": "code",
   "execution_count": 35,
   "metadata": {},
   "outputs": [
    {
     "data": {
      "text/html": [
       "<div>\n",
       "<style scoped>\n",
       "    .dataframe tbody tr th:only-of-type {\n",
       "        vertical-align: middle;\n",
       "    }\n",
       "\n",
       "    .dataframe tbody tr th {\n",
       "        vertical-align: top;\n",
       "    }\n",
       "\n",
       "    .dataframe thead th {\n",
       "        text-align: right;\n",
       "    }\n",
       "</style>\n",
       "<table border=\"1\" class=\"dataframe\">\n",
       "  <thead>\n",
       "    <tr style=\"text-align: right;\">\n",
       "      <th>Person</th>\n",
       "      <th>me</th>\n",
       "      <th>you</th>\n",
       "    </tr>\n",
       "    <tr>\n",
       "      <th>Rolls</th>\n",
       "      <th></th>\n",
       "      <th></th>\n",
       "    </tr>\n",
       "  </thead>\n",
       "  <tbody>\n",
       "    <tr>\n",
       "      <th>2</th>\n",
       "      <td>2</td>\n",
       "      <td>0</td>\n",
       "    </tr>\n",
       "    <tr>\n",
       "      <th>3</th>\n",
       "      <td>0</td>\n",
       "      <td>1</td>\n",
       "    </tr>\n",
       "    <tr>\n",
       "      <th>4</th>\n",
       "      <td>1</td>\n",
       "      <td>0</td>\n",
       "    </tr>\n",
       "    <tr>\n",
       "      <th>6</th>\n",
       "      <td>0</td>\n",
       "      <td>2</td>\n",
       "    </tr>\n",
       "  </tbody>\n",
       "</table>\n",
       "</div>"
      ],
      "text/plain": [
       "Person  me  you\n",
       "Rolls          \n",
       "2        2    0\n",
       "3        0    1\n",
       "4        1    0\n",
       "6        0    2"
      ]
     },
     "execution_count": 35,
     "metadata": {},
     "output_type": "execute_result"
    }
   ],
   "source": [
    "contingencyTableDiceRolls = diceRolls.groupby(['Person','Rolls']).size().unstack('Person', fill_value=0)\n",
    "contingencyTableDiceRolls"
   ]
  },
  {
   "cell_type": "code",
   "execution_count": 36,
   "metadata": {},
   "outputs": [
    {
     "data": {
      "text/plain": [
       "<AxesSubplot:xlabel='Rolls'>"
      ]
     },
     "execution_count": 36,
     "metadata": {},
     "output_type": "execute_result"
    },
    {
     "data": {
      "image/png": "[encoded data removed]",
      "text/plain": [
       "<Figure size 432x288 with 1 Axes>"
      ]
     },
     "metadata": {
      "needs_background": "light"
     },
     "output_type": "display_data"
    }
   ],
   "source": [
    "contingencyTableDiceRolls.plot(kind='bar')"
   ]
  },
  {
   "cell_type": "code",
   "execution_count": 37,
   "metadata": {},
   "outputs": [
    {
     "data": {
      "text/plain": [
       "(6.0,\n",
       " 0.11161022509471268,\n",
       " 3,\n",
       " array([[1. , 1. ],\n",
       "        [0.5, 0.5],\n",
       "        [0.5, 0.5],\n",
       "        [1. , 1. ]]))"
      ]
     },
     "execution_count": 37,
     "metadata": {},
     "output_type": "execute_result"
    }
   ],
   "source": [
    "chi2_contingency(contingencyTableDiceRolls)"
   ]
  },
  {
   "cell_type": "markdown",
   "metadata": {},
   "source": [
    "![](https://miro.medium.com/max/532/1*S8rfFkmLhDbOz4RGNwuz6g.png)"
   ]
  },
  {
   "cell_type": "code",
   "execution_count": 38,
   "metadata": {},
   "outputs": [
    {
     "data": {
      "text/html": [
       "<div>\n",
       "<style scoped>\n",
       "    .dataframe tbody tr th:only-of-type {\n",
       "        vertical-align: middle;\n",
       "    }\n",
       "\n",
       "    .dataframe tbody tr th {\n",
       "        vertical-align: top;\n",
       "    }\n",
       "\n",
       "    .dataframe thead th {\n",
       "        text-align: right;\n",
       "    }\n",
       "</style>\n",
       "<table border=\"1\" class=\"dataframe\">\n",
       "  <thead>\n",
       "    <tr style=\"text-align: right;\">\n",
       "      <th></th>\n",
       "      <th>Person</th>\n",
       "      <th>Rolls</th>\n",
       "    </tr>\n",
       "  </thead>\n",
       "  <tbody>\n",
       "    <tr>\n",
       "      <th>0</th>\n",
       "      <td>Person1</td>\n",
       "      <td>3</td>\n",
       "    </tr>\n",
       "    <tr>\n",
       "      <th>1</th>\n",
       "      <td>Person1</td>\n",
       "      <td>3</td>\n",
       "    </tr>\n",
       "    <tr>\n",
       "      <th>2</th>\n",
       "      <td>Person1</td>\n",
       "      <td>1</td>\n",
       "    </tr>\n",
       "    <tr>\n",
       "      <th>3</th>\n",
       "      <td>Person1</td>\n",
       "      <td>6</td>\n",
       "    </tr>\n",
       "    <tr>\n",
       "      <th>4</th>\n",
       "      <td>Person1</td>\n",
       "      <td>2</td>\n",
       "    </tr>\n",
       "  </tbody>\n",
       "</table>\n",
       "</div>"
      ],
      "text/plain": [
       "    Person  Rolls\n",
       "0  Person1      3\n",
       "1  Person1      3\n",
       "2  Person1      1\n",
       "3  Person1      6\n",
       "4  Person1      2"
      ]
     },
     "execution_count": 38,
     "metadata": {},
     "output_type": "execute_result"
    }
   ],
   "source": [
    "# Change the numberOfRolls and low & high of each player to see the impact on the chi-square test.\n",
    "numberOfRolls = 30\n",
    "person1Rolls= pd.Series( np.random.randint(low=1, high=6 + 1, size=numberOfRolls) )\n",
    "person2Rolls= pd.Series( np.random.randint(low=1, high=6 + 1, size=numberOfRolls) )\n",
    "diceRolls2 = pd.DataFrame({\n",
    "    'Person':pd.concat([pd.Series(['Person1']*numberOfRolls),pd.Series(['Person2']*numberOfRolls)]),\n",
    "    'Rolls':pd.concat([person1Rolls,person2Rolls])\n",
    "})\n",
    "diceRolls2.head()"
   ]
  },
  {
   "cell_type": "code",
   "execution_count": 39,
   "metadata": {},
   "outputs": [
    {
     "data": {
      "text/html": [
       "<div>\n",
       "<style scoped>\n",
       "    .dataframe tbody tr th:only-of-type {\n",
       "        vertical-align: middle;\n",
       "    }\n",
       "\n",
       "    .dataframe tbody tr th {\n",
       "        vertical-align: top;\n",
       "    }\n",
       "\n",
       "    .dataframe thead th {\n",
       "        text-align: right;\n",
       "    }\n",
       "</style>\n",
       "<table border=\"1\" class=\"dataframe\">\n",
       "  <thead>\n",
       "    <tr style=\"text-align: right;\">\n",
       "      <th>Person</th>\n",
       "      <th>Person1</th>\n",
       "      <th>Person2</th>\n",
       "    </tr>\n",
       "    <tr>\n",
       "      <th>Rolls</th>\n",
       "      <th></th>\n",
       "      <th></th>\n",
       "    </tr>\n",
       "  </thead>\n",
       "  <tbody>\n",
       "    <tr>\n",
       "      <th>1</th>\n",
       "      <td>3</td>\n",
       "      <td>5</td>\n",
       "    </tr>\n",
       "    <tr>\n",
       "      <th>2</th>\n",
       "      <td>6</td>\n",
       "      <td>3</td>\n",
       "    </tr>\n",
       "    <tr>\n",
       "      <th>3</th>\n",
       "      <td>5</td>\n",
       "      <td>7</td>\n",
       "    </tr>\n",
       "    <tr>\n",
       "      <th>4</th>\n",
       "      <td>5</td>\n",
       "      <td>5</td>\n",
       "    </tr>\n",
       "    <tr>\n",
       "      <th>5</th>\n",
       "      <td>4</td>\n",
       "      <td>4</td>\n",
       "    </tr>\n",
       "    <tr>\n",
       "      <th>6</th>\n",
       "      <td>7</td>\n",
       "      <td>6</td>\n",
       "    </tr>\n",
       "  </tbody>\n",
       "</table>\n",
       "</div>"
      ],
      "text/plain": [
       "Person  Person1  Person2\n",
       "Rolls                   \n",
       "1             3        5\n",
       "2             6        3\n",
       "3             5        7\n",
       "4             5        5\n",
       "5             4        4\n",
       "6             7        6"
      ]
     },
     "execution_count": 39,
     "metadata": {},
     "output_type": "execute_result"
    }
   ],
   "source": [
    "contingencyTableDiceRolls2 = diceRolls2.groupby(['Person','Rolls']).size().unstack('Person', fill_value=0)\n",
    "contingencyTableDiceRolls2"
   ]
  },
  {
   "cell_type": "code",
   "execution_count": 40,
   "metadata": {},
   "outputs": [
    {
     "data": {
      "text/plain": [
       "<AxesSubplot:xlabel='Rolls'>"
      ]
     },
     "execution_count": 40,
     "metadata": {},
     "output_type": "execute_result"
    },
    {
     "data": {
      "image/png": "[encoded data removed]",
      "text/plain": [
       "<Figure size 432x288 with 1 Axes>"
      ]
     },
     "metadata": {
      "needs_background": "light"
     },
     "output_type": "display_data"
    }
   ],
   "source": [
    "contingencyTableDiceRolls2.plot(kind='bar')"
   ]
  },
  {
   "cell_type": "code",
   "execution_count": 41,
   "metadata": {},
   "outputs": [
    {
     "data": {
      "text/plain": [
       "(1.9102564102564104,\n",
       " 0.8614182309523055,\n",
       " 5,\n",
       " array([[4. , 4. ],\n",
       "        [4.5, 4.5],\n",
       "        [6. , 6. ],\n",
       "        [5. , 5. ],\n",
       "        [4. , 4. ],\n",
       "        [6.5, 6.5]]))"
      ]
     },
     "execution_count": 41,
     "metadata": {},
     "output_type": "execute_result"
    }
   ],
   "source": [
    "chi2_contingency(contingencyTableDiceRolls2)"
   ]
  },
  {
   "cell_type": "markdown",
   "metadata": {},
   "source": [
    "### Portfolio assignment 13\n",
    "10 min: Do a bivariate analysis on the penguins dataset for the following combination of columns:\n",
    "- species VS sex\n",
    "- island VS sex\n",
    "\n",
    "For this bivariate analysis, at least perform the following tasks:\n",
    "- Do you expect their to be a correlation between the two columns?\n",
    "- Create a contigency table. Do you observe different ratios between categories here?\n",
    "- Create a bar plot for this contigency table. Do you observe different ratios between categories here?\n",
    "- Do a chi-squared test. What does the result say? What's the chance of there being a correlation between the two columns?\n",
    "\n",
    "![](https://i.imgur.com/0v1CGNV.png)"
   ]
  },
  {
   "cell_type": "markdown",
   "metadata": {},
   "source": [
    "### Portfolio assignment 14\n",
    "Perform a bivariate analysis on at least 1 combination of 2 columns with categorical data in the dataset that you chose in portfolio assignment 4.\n",
    "- Do you expect their to be a correlation between the two columns?\n",
    "- Create a contigency table. Do you observe different ratios between categories here?\n",
    "- Create a bar plot for this contigency table. Do you observe different ratios between categories here?\n",
    "- Do a chi-squared test. What does the result say? What's the chance of there being a correlation between the two columns?\n",
    "\n",
    "![](https://i.imgur.com/0v1CGNV.png)"
   ]
  },
  {
   "cell_type": "code",
   "execution_count": null,
   "metadata": {},
   "outputs": [],
   "source": []
  }
 ],
 "metadata": {
  "kernelspec": {
   "display_name": "Python 3",
   "language": "python",
   "name": "python3"
  },
  "language_info": {
   "codemirror_mode": {
    "name": "ipython",
    "version": 3
   },
   "file_extension": ".py",
   "mimetype": "text/x-python",
   "name": "python",
   "nbconvert_exporter": "python",
   "pygments_lexer": "ipython3",
   "version": "3.8.5"
  }
 },
 "nbformat": 4,
 "nbformat_minor": 4
}
