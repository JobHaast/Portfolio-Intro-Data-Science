{
 "cells": [
  {
   "cell_type": "markdown",
   "metadata": {},
   "source": [
    "# Bivariate analysis"
   ]
  },
  {
   "cell_type": "markdown",
   "metadata": {},
   "source": [
    "In univariate analysis we only looked at 1 variable (= 1 column) at a time. In bivariate analysis we will now look at the relation between two variables (= 2 columns).\n",
    "\n",
    "The type of analysis we can do will once again depend on the types of data of these 2 variables. We look look at:\n",
    "- Numerical VS Numerical.\n",
    "- Nummerical VS Categorical\n",
    "- Categorical VS Categorical"
   ]
  },
  {
   "cell_type": "markdown",
   "metadata": {},
   "source": [
    "## Numerical VS Numerical"
   ]
  },
  {
   "cell_type": "markdown",
   "metadata": {},
   "source": [
    "Examples:\n",
    "- Age VS Time to takes to run 1 kilometre.\n",
    "- Body length VS Shoe size\n",
    "- Country Unemployment rate VS Country Happiness Rating\n",
    "- Customer Revenue VS Customer Lifetime\n",
    "- Game Wishlists VS Game Purchases\n",
    "- Student grades VS Student attendance\n",
    "- ..."
   ]
  },
  {
   "cell_type": "code",
   "execution_count": 2,
   "metadata": {},
   "outputs": [],
   "source": [
    "import pandas as pd\n",
    "import seaborn as sns"
   ]
  },
  {
   "cell_type": "code",
   "execution_count": 3,
   "metadata": {},
   "outputs": [],
   "source": [
    "iris = sns.load_dataset(\"iris\")"
   ]
  },
  {
   "cell_type": "code",
   "execution_count": 4,
   "metadata": {},
   "outputs": [
    {
     "data": {
      "text/html": [
       "<div>\n",
       "<style scoped>\n",
       "    .dataframe tbody tr th:only-of-type {\n",
       "        vertical-align: middle;\n",
       "    }\n",
       "\n",
       "    .dataframe tbody tr th {\n",
       "        vertical-align: top;\n",
       "    }\n",
       "\n",
       "    .dataframe thead th {\n",
       "        text-align: right;\n",
       "    }\n",
       "</style>\n",
       "<table border=\"1\" class=\"dataframe\">\n",
       "  <thead>\n",
       "    <tr style=\"text-align: right;\">\n",
       "      <th></th>\n",
       "      <th>sepal_length</th>\n",
       "      <th>sepal_width</th>\n",
       "      <th>petal_length</th>\n",
       "      <th>petal_width</th>\n",
       "      <th>species</th>\n",
       "    </tr>\n",
       "  </thead>\n",
       "  <tbody>\n",
       "    <tr>\n",
       "      <th>0</th>\n",
       "      <td>5.1</td>\n",
       "      <td>3.5</td>\n",
       "      <td>1.4</td>\n",
       "      <td>0.2</td>\n",
       "      <td>setosa</td>\n",
       "    </tr>\n",
       "    <tr>\n",
       "      <th>1</th>\n",
       "      <td>4.9</td>\n",
       "      <td>3.0</td>\n",
       "      <td>1.4</td>\n",
       "      <td>0.2</td>\n",
       "      <td>setosa</td>\n",
       "    </tr>\n",
       "    <tr>\n",
       "      <th>2</th>\n",
       "      <td>4.7</td>\n",
       "      <td>3.2</td>\n",
       "      <td>1.3</td>\n",
       "      <td>0.2</td>\n",
       "      <td>setosa</td>\n",
       "    </tr>\n",
       "    <tr>\n",
       "      <th>3</th>\n",
       "      <td>4.6</td>\n",
       "      <td>3.1</td>\n",
       "      <td>1.5</td>\n",
       "      <td>0.2</td>\n",
       "      <td>setosa</td>\n",
       "    </tr>\n",
       "    <tr>\n",
       "      <th>4</th>\n",
       "      <td>5.0</td>\n",
       "      <td>3.6</td>\n",
       "      <td>1.4</td>\n",
       "      <td>0.2</td>\n",
       "      <td>setosa</td>\n",
       "    </tr>\n",
       "  </tbody>\n",
       "</table>\n",
       "</div>"
      ],
      "text/plain": [
       "   sepal_length  sepal_width  petal_length  petal_width species\n",
       "0           5.1          3.5           1.4          0.2  setosa\n",
       "1           4.9          3.0           1.4          0.2  setosa\n",
       "2           4.7          3.2           1.3          0.2  setosa\n",
       "3           4.6          3.1           1.5          0.2  setosa\n",
       "4           5.0          3.6           1.4          0.2  setosa"
      ]
     },
     "execution_count": 4,
     "metadata": {},
     "output_type": "execute_result"
    }
   ],
   "source": [
    "iris.head()"
   ]
  },
  {
   "cell_type": "markdown",
   "metadata": {},
   "source": [
    "![](https://miro.medium.com/max/1000/1*Hh53mOF4Xy4eORjLilKOwA.png \"Iris dataset\") "
   ]
  },
  {
   "cell_type": "markdown",
   "metadata": {},
   "source": [
    "Let's look at the relation between the sepal length and petal length. (Dutch: Kelkblad en bloemblad)"
   ]
  },
  {
   "cell_type": "code",
   "execution_count": 5,
   "metadata": {},
   "outputs": [
    {
     "data": {
      "text/plain": [
       "<AxesSubplot:xlabel='sepal_length', ylabel='petal_length'>"
      ]
     },
     "execution_count": 5,
     "metadata": {},
     "output_type": "execute_result"
    },
    {
     "data": {
      "image/png": "[encoded data removed]",
      "text/plain": [
       "<Figure size 432x288 with 1 Axes>"
      ]
     },
     "metadata": {
      "needs_background": "light"
     },
     "output_type": "display_data"
    }
   ],
   "source": [
    "iris.plot(kind='scatter', x='sepal_length', y='petal_length')"
   ]
  },
  {
   "cell_type": "markdown",
   "metadata": {},
   "source": [
    "A useful statistic for calculating the linear relation between two variable is the **Pearson correlation**.  \n",
    "The Pearson correlation measures the linear relation between two numerical variables. The result is a number between -1 and 1 where\n",
    "- -1 indicates a perfect negative linear relation\n",
    "- 0 indicates that there is no linear relation\n",
    "- 1 indicates a perfect positive linear relation"
   ]
  },
  {
   "cell_type": "markdown",
   "metadata": {},
   "source": [
    "![](https://www.spss-tutorials.com/img/correlation-coefficient-multiple-scatterplots.png \"Pearson correlation examples\")"
   ]
  },
  {
   "cell_type": "markdown",
   "metadata": {},
   "source": [
    "![](https://cdn1.byjus.com/wp-content/uploads/2019/06/word-image28.png \"Pearson correlation formula\")"
   ]
  },
  {
   "cell_type": "code",
   "execution_count": 6,
   "metadata": {},
   "outputs": [
    {
     "data": {
      "text/html": [
       "<div>\n",
       "<style scoped>\n",
       "    .dataframe tbody tr th:only-of-type {\n",
       "        vertical-align: middle;\n",
       "    }\n",
       "\n",
       "    .dataframe tbody tr th {\n",
       "        vertical-align: top;\n",
       "    }\n",
       "\n",
       "    .dataframe thead th {\n",
       "        text-align: right;\n",
       "    }\n",
       "</style>\n",
       "<table border=\"1\" class=\"dataframe\">\n",
       "  <thead>\n",
       "    <tr style=\"text-align: right;\">\n",
       "      <th></th>\n",
       "      <th>sepal_length</th>\n",
       "      <th>petal_length</th>\n",
       "    </tr>\n",
       "  </thead>\n",
       "  <tbody>\n",
       "    <tr>\n",
       "      <th>sepal_length</th>\n",
       "      <td>1.000000</td>\n",
       "      <td>0.871754</td>\n",
       "    </tr>\n",
       "    <tr>\n",
       "      <th>petal_length</th>\n",
       "      <td>0.871754</td>\n",
       "      <td>1.000000</td>\n",
       "    </tr>\n",
       "  </tbody>\n",
       "</table>\n",
       "</div>"
      ],
      "text/plain": [
       "              sepal_length  petal_length\n",
       "sepal_length      1.000000      0.871754\n",
       "petal_length      0.871754      1.000000"
      ]
     },
     "execution_count": 6,
     "metadata": {},
     "output_type": "execute_result"
    }
   ],
   "source": [
    "iris[['sepal_length','petal_length']].corr()"
   ]
  },
  {
   "cell_type": "code",
   "execution_count": 7,
   "metadata": {},
   "outputs": [
    {
     "data": {
      "text/html": [
       "<div>\n",
       "<style scoped>\n",
       "    .dataframe tbody tr th:only-of-type {\n",
       "        vertical-align: middle;\n",
       "    }\n",
       "\n",
       "    .dataframe tbody tr th {\n",
       "        vertical-align: top;\n",
       "    }\n",
       "\n",
       "    .dataframe thead th {\n",
       "        text-align: right;\n",
       "    }\n",
       "</style>\n",
       "<table border=\"1\" class=\"dataframe\">\n",
       "  <thead>\n",
       "    <tr style=\"text-align: right;\">\n",
       "      <th></th>\n",
       "      <th>sepal_length</th>\n",
       "      <th>sepal_width</th>\n",
       "      <th>petal_length</th>\n",
       "      <th>petal_width</th>\n",
       "    </tr>\n",
       "  </thead>\n",
       "  <tbody>\n",
       "    <tr>\n",
       "      <th>sepal_length</th>\n",
       "      <td>1.000000</td>\n",
       "      <td>-0.117570</td>\n",
       "      <td>0.871754</td>\n",
       "      <td>0.817941</td>\n",
       "    </tr>\n",
       "    <tr>\n",
       "      <th>sepal_width</th>\n",
       "      <td>-0.117570</td>\n",
       "      <td>1.000000</td>\n",
       "      <td>-0.428440</td>\n",
       "      <td>-0.366126</td>\n",
       "    </tr>\n",
       "    <tr>\n",
       "      <th>petal_length</th>\n",
       "      <td>0.871754</td>\n",
       "      <td>-0.428440</td>\n",
       "      <td>1.000000</td>\n",
       "      <td>0.962865</td>\n",
       "    </tr>\n",
       "    <tr>\n",
       "      <th>petal_width</th>\n",
       "      <td>0.817941</td>\n",
       "      <td>-0.366126</td>\n",
       "      <td>0.962865</td>\n",
       "      <td>1.000000</td>\n",
       "    </tr>\n",
       "  </tbody>\n",
       "</table>\n",
       "</div>"
      ],
      "text/plain": [
       "              sepal_length  sepal_width  petal_length  petal_width\n",
       "sepal_length      1.000000    -0.117570      0.871754     0.817941\n",
       "sepal_width      -0.117570     1.000000     -0.428440    -0.366126\n",
       "petal_length      0.871754    -0.428440      1.000000     0.962865\n",
       "petal_width       0.817941    -0.366126      0.962865     1.000000"
      ]
     },
     "execution_count": 7,
     "metadata": {},
     "output_type": "execute_result"
    }
   ],
   "source": [
    "iris.corr()"
   ]
  },
  {
   "cell_type": "code",
   "execution_count": 8,
   "metadata": {},
   "outputs": [
    {
     "data": {
      "text/html": [
       "<style  type=\"text/css\" >\n",
       "#T_8f0a18da_6a0a_11eb_9775_0068ebda5a45row0_col0,#T_8f0a18da_6a0a_11eb_9775_0068ebda5a45row1_col1,#T_8f0a18da_6a0a_11eb_9775_0068ebda5a45row2_col2,#T_8f0a18da_6a0a_11eb_9775_0068ebda5a45row3_col3{\n",
       "            background-color:  #b40426;\n",
       "            color:  #f1f1f1;\n",
       "        }#T_8f0a18da_6a0a_11eb_9775_0068ebda5a45row0_col1,#T_8f0a18da_6a0a_11eb_9775_0068ebda5a45row1_col0{\n",
       "            background-color:  #81a4fb;\n",
       "            color:  #000000;\n",
       "        }#T_8f0a18da_6a0a_11eb_9775_0068ebda5a45row0_col2,#T_8f0a18da_6a0a_11eb_9775_0068ebda5a45row2_col0{\n",
       "            background-color:  #d24b40;\n",
       "            color:  #f1f1f1;\n",
       "        }#T_8f0a18da_6a0a_11eb_9775_0068ebda5a45row0_col3,#T_8f0a18da_6a0a_11eb_9775_0068ebda5a45row3_col0{\n",
       "            background-color:  #de614d;\n",
       "            color:  #000000;\n",
       "        }#T_8f0a18da_6a0a_11eb_9775_0068ebda5a45row1_col2,#T_8f0a18da_6a0a_11eb_9775_0068ebda5a45row2_col1{\n",
       "            background-color:  #3b4cc0;\n",
       "            color:  #f1f1f1;\n",
       "        }#T_8f0a18da_6a0a_11eb_9775_0068ebda5a45row1_col3,#T_8f0a18da_6a0a_11eb_9775_0068ebda5a45row3_col1{\n",
       "            background-color:  #485fd1;\n",
       "            color:  #f1f1f1;\n",
       "        }#T_8f0a18da_6a0a_11eb_9775_0068ebda5a45row2_col3,#T_8f0a18da_6a0a_11eb_9775_0068ebda5a45row3_col2{\n",
       "            background-color:  #bd1f2d;\n",
       "            color:  #f1f1f1;\n",
       "        }</style><table id=\"T_8f0a18da_6a0a_11eb_9775_0068ebda5a45\" ><thead>    <tr>        <th class=\"blank level0\" ></th>        <th class=\"col_heading level0 col0\" >sepal_length</th>        <th class=\"col_heading level0 col1\" >sepal_width</th>        <th class=\"col_heading level0 col2\" >petal_length</th>        <th class=\"col_heading level0 col3\" >petal_width</th>    </tr></thead><tbody>\n",
       "                <tr>\n",
       "                        <th id=\"T_8f0a18da_6a0a_11eb_9775_0068ebda5a45level0_row0\" class=\"row_heading level0 row0\" >sepal_length</th>\n",
       "                        <td id=\"T_8f0a18da_6a0a_11eb_9775_0068ebda5a45row0_col0\" class=\"data row0 col0\" >1.00</td>\n",
       "                        <td id=\"T_8f0a18da_6a0a_11eb_9775_0068ebda5a45row0_col1\" class=\"data row0 col1\" >-0.12</td>\n",
       "                        <td id=\"T_8f0a18da_6a0a_11eb_9775_0068ebda5a45row0_col2\" class=\"data row0 col2\" >0.87</td>\n",
       "                        <td id=\"T_8f0a18da_6a0a_11eb_9775_0068ebda5a45row0_col3\" class=\"data row0 col3\" >0.82</td>\n",
       "            </tr>\n",
       "            <tr>\n",
       "                        <th id=\"T_8f0a18da_6a0a_11eb_9775_0068ebda5a45level0_row1\" class=\"row_heading level0 row1\" >sepal_width</th>\n",
       "                        <td id=\"T_8f0a18da_6a0a_11eb_9775_0068ebda5a45row1_col0\" class=\"data row1 col0\" >-0.12</td>\n",
       "                        <td id=\"T_8f0a18da_6a0a_11eb_9775_0068ebda5a45row1_col1\" class=\"data row1 col1\" >1.00</td>\n",
       "                        <td id=\"T_8f0a18da_6a0a_11eb_9775_0068ebda5a45row1_col2\" class=\"data row1 col2\" >-0.43</td>\n",
       "                        <td id=\"T_8f0a18da_6a0a_11eb_9775_0068ebda5a45row1_col3\" class=\"data row1 col3\" >-0.37</td>\n",
       "            </tr>\n",
       "            <tr>\n",
       "                        <th id=\"T_8f0a18da_6a0a_11eb_9775_0068ebda5a45level0_row2\" class=\"row_heading level0 row2\" >petal_length</th>\n",
       "                        <td id=\"T_8f0a18da_6a0a_11eb_9775_0068ebda5a45row2_col0\" class=\"data row2 col0\" >0.87</td>\n",
       "                        <td id=\"T_8f0a18da_6a0a_11eb_9775_0068ebda5a45row2_col1\" class=\"data row2 col1\" >-0.43</td>\n",
       "                        <td id=\"T_8f0a18da_6a0a_11eb_9775_0068ebda5a45row2_col2\" class=\"data row2 col2\" >1.00</td>\n",
       "                        <td id=\"T_8f0a18da_6a0a_11eb_9775_0068ebda5a45row2_col3\" class=\"data row2 col3\" >0.96</td>\n",
       "            </tr>\n",
       "            <tr>\n",
       "                        <th id=\"T_8f0a18da_6a0a_11eb_9775_0068ebda5a45level0_row3\" class=\"row_heading level0 row3\" >petal_width</th>\n",
       "                        <td id=\"T_8f0a18da_6a0a_11eb_9775_0068ebda5a45row3_col0\" class=\"data row3 col0\" >0.82</td>\n",
       "                        <td id=\"T_8f0a18da_6a0a_11eb_9775_0068ebda5a45row3_col1\" class=\"data row3 col1\" >-0.37</td>\n",
       "                        <td id=\"T_8f0a18da_6a0a_11eb_9775_0068ebda5a45row3_col2\" class=\"data row3 col2\" >0.96</td>\n",
       "                        <td id=\"T_8f0a18da_6a0a_11eb_9775_0068ebda5a45row3_col3\" class=\"data row3 col3\" >1.00</td>\n",
       "            </tr>\n",
       "    </tbody></table>"
      ],
      "text/plain": [
       "<pandas.io.formats.style.Styler at 0x1f67a7a9ac0>"
      ]
     },
     "execution_count": 8,
     "metadata": {},
     "output_type": "execute_result"
    }
   ],
   "source": [
    "irisCorrelations = iris.corr()\n",
    "irisCorrelations.style.background_gradient(cmap='coolwarm', axis=None).set_precision(2)"
   ]
  },
  {
   "cell_type": "code",
   "execution_count": 9,
   "metadata": {},
   "outputs": [
    {
     "data": {
      "text/plain": [
       "<AxesSubplot:xlabel='sepal_width', ylabel='petal_length'>"
      ]
     },
     "execution_count": 9,
     "metadata": {},
     "output_type": "execute_result"
    },
    {
     "data": {
      "image/png": "[encoded data removed]",
      "text/plain": [
       "<Figure size 432x288 with 1 Axes>"
      ]
     },
     "metadata": {
      "needs_background": "light"
     },
     "output_type": "display_data"
    }
   ],
   "source": [
    "iris.plot(kind='scatter', x='sepal_width', y='petal_length')"
   ]
  },
  {
   "cell_type": "code",
   "execution_count": 10,
   "metadata": {},
   "outputs": [],
   "source": [
    "import numpy as np"
   ]
  },
  {
   "cell_type": "code",
   "execution_count": 11,
   "metadata": {},
   "outputs": [],
   "source": [
    "exampleData = pd.Series(range(100)) + 1\n",
    "exampleDataNegative = -exampleData\n",
    "exampleDataDouble = exampleData * 2\n",
    "exampleDataSquared = exampleData ** 2\n",
    "exampleDataRoot = exampleData ** 0.5\n",
    "\n",
    "exampleDataExponential = 2 ** exampleData\n",
    "exampleDataLog = np.log2(exampleData)\n",
    "\n",
    "exampleDataWithSmallNoise = exampleData + np.random.randint(low=0, high=10, size=len(exampleData))\n",
    "exampleDataWithMediumNoise = exampleData + np.random.randint(low=0, high=100, size=len(exampleData))\n",
    "exampleDataWithHeavyNoise = exampleData + np.random.randint(low=0, high=1000, size=len(exampleData))\n",
    "\n",
    "exampleDataFrame = pd.DataFrame({'original':exampleData, 'negative':exampleDataNegative, 'double':exampleDataDouble, 'squared':exampleDataSquared, 'root': exampleDataRoot, 'exp':exampleDataExponential, 'log':exampleDataLog, 'noiseSmall': exampleDataWithSmallNoise, 'noiseMedium': exampleDataWithMediumNoise, 'noiseHeavy':exampleDataWithHeavyNoise })"
   ]
  },
  {
   "cell_type": "code",
   "execution_count": 12,
   "metadata": {},
   "outputs": [
    {
     "data": {
      "text/html": [
       "<div>\n",
       "<style scoped>\n",
       "    .dataframe tbody tr th:only-of-type {\n",
       "        vertical-align: middle;\n",
       "    }\n",
       "\n",
       "    .dataframe tbody tr th {\n",
       "        vertical-align: top;\n",
       "    }\n",
       "\n",
       "    .dataframe thead th {\n",
       "        text-align: right;\n",
       "    }\n",
       "</style>\n",
       "<table border=\"1\" class=\"dataframe\">\n",
       "  <thead>\n",
       "    <tr style=\"text-align: right;\">\n",
       "      <th></th>\n",
       "      <th>original</th>\n",
       "      <th>negative</th>\n",
       "      <th>double</th>\n",
       "      <th>squared</th>\n",
       "      <th>root</th>\n",
       "      <th>exp</th>\n",
       "      <th>log</th>\n",
       "      <th>noiseSmall</th>\n",
       "      <th>noiseMedium</th>\n",
       "      <th>noiseHeavy</th>\n",
       "    </tr>\n",
       "  </thead>\n",
       "  <tbody>\n",
       "    <tr>\n",
       "      <th>0</th>\n",
       "      <td>1</td>\n",
       "      <td>-1</td>\n",
       "      <td>2</td>\n",
       "      <td>1</td>\n",
       "      <td>1.000000</td>\n",
       "      <td>2</td>\n",
       "      <td>0.000000</td>\n",
       "      <td>1</td>\n",
       "      <td>84</td>\n",
       "      <td>180</td>\n",
       "    </tr>\n",
       "    <tr>\n",
       "      <th>1</th>\n",
       "      <td>2</td>\n",
       "      <td>-2</td>\n",
       "      <td>4</td>\n",
       "      <td>4</td>\n",
       "      <td>1.414214</td>\n",
       "      <td>4</td>\n",
       "      <td>1.000000</td>\n",
       "      <td>7</td>\n",
       "      <td>38</td>\n",
       "      <td>530</td>\n",
       "    </tr>\n",
       "    <tr>\n",
       "      <th>2</th>\n",
       "      <td>3</td>\n",
       "      <td>-3</td>\n",
       "      <td>6</td>\n",
       "      <td>9</td>\n",
       "      <td>1.732051</td>\n",
       "      <td>8</td>\n",
       "      <td>1.584963</td>\n",
       "      <td>11</td>\n",
       "      <td>80</td>\n",
       "      <td>626</td>\n",
       "    </tr>\n",
       "    <tr>\n",
       "      <th>3</th>\n",
       "      <td>4</td>\n",
       "      <td>-4</td>\n",
       "      <td>8</td>\n",
       "      <td>16</td>\n",
       "      <td>2.000000</td>\n",
       "      <td>16</td>\n",
       "      <td>2.000000</td>\n",
       "      <td>7</td>\n",
       "      <td>21</td>\n",
       "      <td>694</td>\n",
       "    </tr>\n",
       "    <tr>\n",
       "      <th>4</th>\n",
       "      <td>5</td>\n",
       "      <td>-5</td>\n",
       "      <td>10</td>\n",
       "      <td>25</td>\n",
       "      <td>2.236068</td>\n",
       "      <td>32</td>\n",
       "      <td>2.321928</td>\n",
       "      <td>7</td>\n",
       "      <td>27</td>\n",
       "      <td>560</td>\n",
       "    </tr>\n",
       "  </tbody>\n",
       "</table>\n",
       "</div>"
      ],
      "text/plain": [
       "   original  negative  double  squared      root  exp       log  noiseSmall  \\\n",
       "0         1        -1       2        1  1.000000    2  0.000000           1   \n",
       "1         2        -2       4        4  1.414214    4  1.000000           7   \n",
       "2         3        -3       6        9  1.732051    8  1.584963          11   \n",
       "3         4        -4       8       16  2.000000   16  2.000000           7   \n",
       "4         5        -5      10       25  2.236068   32  2.321928           7   \n",
       "\n",
       "   noiseMedium  noiseHeavy  \n",
       "0           84         180  \n",
       "1           38         530  \n",
       "2           80         626  \n",
       "3           21         694  \n",
       "4           27         560  "
      ]
     },
     "execution_count": 12,
     "metadata": {},
     "output_type": "execute_result"
    }
   ],
   "source": [
    "exampleDataFrame.head()"
   ]
  },
  {
   "cell_type": "code",
   "execution_count": 13,
   "metadata": {},
   "outputs": [
    {
     "data": {
      "text/html": [
       "<style  type=\"text/css\" >\n",
       "#T_8f24e9f1_6a0a_11eb_af83_0068ebda5a45row0_col0,#T_8f24e9f1_6a0a_11eb_af83_0068ebda5a45row0_col2,#T_8f24e9f1_6a0a_11eb_af83_0068ebda5a45row0_col7,#T_8f24e9f1_6a0a_11eb_af83_0068ebda5a45row1_col1,#T_8f24e9f1_6a0a_11eb_af83_0068ebda5a45row2_col0,#T_8f24e9f1_6a0a_11eb_af83_0068ebda5a45row2_col2,#T_8f24e9f1_6a0a_11eb_af83_0068ebda5a45row2_col7,#T_8f24e9f1_6a0a_11eb_af83_0068ebda5a45row3_col3,#T_8f24e9f1_6a0a_11eb_af83_0068ebda5a45row4_col4,#T_8f24e9f1_6a0a_11eb_af83_0068ebda5a45row5_col5,#T_8f24e9f1_6a0a_11eb_af83_0068ebda5a45row6_col6,#T_8f24e9f1_6a0a_11eb_af83_0068ebda5a45row7_col0,#T_8f24e9f1_6a0a_11eb_af83_0068ebda5a45row7_col2,#T_8f24e9f1_6a0a_11eb_af83_0068ebda5a45row7_col7,#T_8f24e9f1_6a0a_11eb_af83_0068ebda5a45row8_col8,#T_8f24e9f1_6a0a_11eb_af83_0068ebda5a45row9_col9{\n",
       "            background-color:  #b40426;\n",
       "            color:  #f1f1f1;\n",
       "        }#T_8f24e9f1_6a0a_11eb_af83_0068ebda5a45row0_col1,#T_8f24e9f1_6a0a_11eb_af83_0068ebda5a45row1_col0,#T_8f24e9f1_6a0a_11eb_af83_0068ebda5a45row1_col2,#T_8f24e9f1_6a0a_11eb_af83_0068ebda5a45row1_col7,#T_8f24e9f1_6a0a_11eb_af83_0068ebda5a45row2_col1,#T_8f24e9f1_6a0a_11eb_af83_0068ebda5a45row7_col1{\n",
       "            background-color:  #3b4cc0;\n",
       "            color:  #f1f1f1;\n",
       "        }#T_8f24e9f1_6a0a_11eb_af83_0068ebda5a45row0_col3,#T_8f24e9f1_6a0a_11eb_af83_0068ebda5a45row2_col3,#T_8f24e9f1_6a0a_11eb_af83_0068ebda5a45row3_col0,#T_8f24e9f1_6a0a_11eb_af83_0068ebda5a45row3_col2{\n",
       "            background-color:  #b8122a;\n",
       "            color:  #f1f1f1;\n",
       "        }#T_8f24e9f1_6a0a_11eb_af83_0068ebda5a45row0_col4,#T_8f24e9f1_6a0a_11eb_af83_0068ebda5a45row2_col4,#T_8f24e9f1_6a0a_11eb_af83_0068ebda5a45row4_col0,#T_8f24e9f1_6a0a_11eb_af83_0068ebda5a45row4_col2,#T_8f24e9f1_6a0a_11eb_af83_0068ebda5a45row4_col7,#T_8f24e9f1_6a0a_11eb_af83_0068ebda5a45row7_col4{\n",
       "            background-color:  #b70d28;\n",
       "            color:  #f1f1f1;\n",
       "        }#T_8f24e9f1_6a0a_11eb_af83_0068ebda5a45row0_col5,#T_8f24e9f1_6a0a_11eb_af83_0068ebda5a45row2_col5,#T_8f24e9f1_6a0a_11eb_af83_0068ebda5a45row3_col5,#T_8f24e9f1_6a0a_11eb_af83_0068ebda5a45row4_col5,#T_8f24e9f1_6a0a_11eb_af83_0068ebda5a45row4_col9,#T_8f24e9f1_6a0a_11eb_af83_0068ebda5a45row5_col0,#T_8f24e9f1_6a0a_11eb_af83_0068ebda5a45row5_col2,#T_8f24e9f1_6a0a_11eb_af83_0068ebda5a45row5_col3,#T_8f24e9f1_6a0a_11eb_af83_0068ebda5a45row5_col4,#T_8f24e9f1_6a0a_11eb_af83_0068ebda5a45row5_col6,#T_8f24e9f1_6a0a_11eb_af83_0068ebda5a45row6_col5,#T_8f24e9f1_6a0a_11eb_af83_0068ebda5a45row9_col4{\n",
       "            background-color:  #dcdddd;\n",
       "            color:  #000000;\n",
       "        }#T_8f24e9f1_6a0a_11eb_af83_0068ebda5a45row0_col6,#T_8f24e9f1_6a0a_11eb_af83_0068ebda5a45row2_col6,#T_8f24e9f1_6a0a_11eb_af83_0068ebda5a45row6_col0,#T_8f24e9f1_6a0a_11eb_af83_0068ebda5a45row6_col2,#T_8f24e9f1_6a0a_11eb_af83_0068ebda5a45row6_col7,#T_8f24e9f1_6a0a_11eb_af83_0068ebda5a45row7_col6{\n",
       "            background-color:  #c73635;\n",
       "            color:  #f1f1f1;\n",
       "        }#T_8f24e9f1_6a0a_11eb_af83_0068ebda5a45row0_col8,#T_8f24e9f1_6a0a_11eb_af83_0068ebda5a45row2_col8,#T_8f24e9f1_6a0a_11eb_af83_0068ebda5a45row8_col0,#T_8f24e9f1_6a0a_11eb_af83_0068ebda5a45row8_col2{\n",
       "            background-color:  #dd5f4b;\n",
       "            color:  #000000;\n",
       "        }#T_8f24e9f1_6a0a_11eb_af83_0068ebda5a45row0_col9,#T_8f24e9f1_6a0a_11eb_af83_0068ebda5a45row2_col9,#T_8f24e9f1_6a0a_11eb_af83_0068ebda5a45row9_col0,#T_8f24e9f1_6a0a_11eb_af83_0068ebda5a45row9_col2{\n",
       "            background-color:  #dadce0;\n",
       "            color:  #000000;\n",
       "        }#T_8f24e9f1_6a0a_11eb_af83_0068ebda5a45row1_col3,#T_8f24e9f1_6a0a_11eb_af83_0068ebda5a45row3_col1{\n",
       "            background-color:  #3e51c5;\n",
       "            color:  #f1f1f1;\n",
       "        }#T_8f24e9f1_6a0a_11eb_af83_0068ebda5a45row1_col4,#T_8f24e9f1_6a0a_11eb_af83_0068ebda5a45row4_col1{\n",
       "            background-color:  #3d50c3;\n",
       "            color:  #f1f1f1;\n",
       "        }#T_8f24e9f1_6a0a_11eb_af83_0068ebda5a45row1_col5,#T_8f24e9f1_6a0a_11eb_af83_0068ebda5a45row5_col1,#T_8f24e9f1_6a0a_11eb_af83_0068ebda5a45row5_col7,#T_8f24e9f1_6a0a_11eb_af83_0068ebda5a45row5_col9,#T_8f24e9f1_6a0a_11eb_af83_0068ebda5a45row7_col5,#T_8f24e9f1_6a0a_11eb_af83_0068ebda5a45row9_col5{\n",
       "            background-color:  #dddcdc;\n",
       "            color:  #000000;\n",
       "        }#T_8f24e9f1_6a0a_11eb_af83_0068ebda5a45row1_col6,#T_8f24e9f1_6a0a_11eb_af83_0068ebda5a45row6_col1{\n",
       "            background-color:  #4a63d3;\n",
       "            color:  #f1f1f1;\n",
       "        }#T_8f24e9f1_6a0a_11eb_af83_0068ebda5a45row1_col8,#T_8f24e9f1_6a0a_11eb_af83_0068ebda5a45row8_col1{\n",
       "            background-color:  #6180e9;\n",
       "            color:  #000000;\n",
       "        }#T_8f24e9f1_6a0a_11eb_af83_0068ebda5a45row1_col9,#T_8f24e9f1_6a0a_11eb_af83_0068ebda5a45row9_col1{\n",
       "            background-color:  #dfdbd9;\n",
       "            color:  #000000;\n",
       "        }#T_8f24e9f1_6a0a_11eb_af83_0068ebda5a45row3_col4,#T_8f24e9f1_6a0a_11eb_af83_0068ebda5a45row4_col3{\n",
       "            background-color:  #c43032;\n",
       "            color:  #f1f1f1;\n",
       "        }#T_8f24e9f1_6a0a_11eb_af83_0068ebda5a45row3_col6,#T_8f24e9f1_6a0a_11eb_af83_0068ebda5a45row6_col3{\n",
       "            background-color:  #d95847;\n",
       "            color:  #000000;\n",
       "        }#T_8f24e9f1_6a0a_11eb_af83_0068ebda5a45row3_col7,#T_8f24e9f1_6a0a_11eb_af83_0068ebda5a45row4_col6,#T_8f24e9f1_6a0a_11eb_af83_0068ebda5a45row6_col4,#T_8f24e9f1_6a0a_11eb_af83_0068ebda5a45row7_col3{\n",
       "            background-color:  #ba162b;\n",
       "            color:  #f1f1f1;\n",
       "        }#T_8f24e9f1_6a0a_11eb_af83_0068ebda5a45row3_col8,#T_8f24e9f1_6a0a_11eb_af83_0068ebda5a45row8_col3{\n",
       "            background-color:  #e26952;\n",
       "            color:  #000000;\n",
       "        }#T_8f24e9f1_6a0a_11eb_af83_0068ebda5a45row3_col9,#T_8f24e9f1_6a0a_11eb_af83_0068ebda5a45row9_col3{\n",
       "            background-color:  #d8dce2;\n",
       "            color:  #000000;\n",
       "        }#T_8f24e9f1_6a0a_11eb_af83_0068ebda5a45row4_col8,#T_8f24e9f1_6a0a_11eb_af83_0068ebda5a45row8_col4{\n",
       "            background-color:  #de614d;\n",
       "            color:  #000000;\n",
       "        }#T_8f24e9f1_6a0a_11eb_af83_0068ebda5a45row5_col8,#T_8f24e9f1_6a0a_11eb_af83_0068ebda5a45row8_col5{\n",
       "            background-color:  #d5dbe5;\n",
       "            color:  #000000;\n",
       "        }#T_8f24e9f1_6a0a_11eb_af83_0068ebda5a45row6_col8,#T_8f24e9f1_6a0a_11eb_af83_0068ebda5a45row8_col6{\n",
       "            background-color:  #e67259;\n",
       "            color:  #000000;\n",
       "        }#T_8f24e9f1_6a0a_11eb_af83_0068ebda5a45row6_col9,#T_8f24e9f1_6a0a_11eb_af83_0068ebda5a45row9_col6{\n",
       "            background-color:  #dedcdb;\n",
       "            color:  #000000;\n",
       "        }#T_8f24e9f1_6a0a_11eb_af83_0068ebda5a45row7_col8,#T_8f24e9f1_6a0a_11eb_af83_0068ebda5a45row8_col7{\n",
       "            background-color:  #dc5d4a;\n",
       "            color:  #000000;\n",
       "        }#T_8f24e9f1_6a0a_11eb_af83_0068ebda5a45row7_col9,#T_8f24e9f1_6a0a_11eb_af83_0068ebda5a45row9_col7{\n",
       "            background-color:  #d9dce1;\n",
       "            color:  #000000;\n",
       "        }#T_8f24e9f1_6a0a_11eb_af83_0068ebda5a45row8_col9,#T_8f24e9f1_6a0a_11eb_af83_0068ebda5a45row9_col8{\n",
       "            background-color:  #e0dbd8;\n",
       "            color:  #000000;\n",
       "        }</style><table id=\"T_8f24e9f1_6a0a_11eb_af83_0068ebda5a45\" ><thead>    <tr>        <th class=\"blank level0\" ></th>        <th class=\"col_heading level0 col0\" >original</th>        <th class=\"col_heading level0 col1\" >negative</th>        <th class=\"col_heading level0 col2\" >double</th>        <th class=\"col_heading level0 col3\" >squared</th>        <th class=\"col_heading level0 col4\" >root</th>        <th class=\"col_heading level0 col5\" >exp</th>        <th class=\"col_heading level0 col6\" >log</th>        <th class=\"col_heading level0 col7\" >noiseSmall</th>        <th class=\"col_heading level0 col8\" >noiseMedium</th>        <th class=\"col_heading level0 col9\" >noiseHeavy</th>    </tr></thead><tbody>\n",
       "                <tr>\n",
       "                        <th id=\"T_8f24e9f1_6a0a_11eb_af83_0068ebda5a45level0_row0\" class=\"row_heading level0 row0\" >original</th>\n",
       "                        <td id=\"T_8f24e9f1_6a0a_11eb_af83_0068ebda5a45row0_col0\" class=\"data row0 col0\" >1.00</td>\n",
       "                        <td id=\"T_8f24e9f1_6a0a_11eb_af83_0068ebda5a45row0_col1\" class=\"data row0 col1\" >-1.00</td>\n",
       "                        <td id=\"T_8f24e9f1_6a0a_11eb_af83_0068ebda5a45row0_col2\" class=\"data row0 col2\" >1.00</td>\n",
       "                        <td id=\"T_8f24e9f1_6a0a_11eb_af83_0068ebda5a45row0_col3\" class=\"data row0 col3\" >0.97</td>\n",
       "                        <td id=\"T_8f24e9f1_6a0a_11eb_af83_0068ebda5a45row0_col4\" class=\"data row0 col4\" >0.98</td>\n",
       "                        <td id=\"T_8f24e9f1_6a0a_11eb_af83_0068ebda5a45row0_col5\" class=\"data row0 col5\" >-0.01</td>\n",
       "                        <td id=\"T_8f24e9f1_6a0a_11eb_af83_0068ebda5a45row0_col6\" class=\"data row0 col6\" >0.90</td>\n",
       "                        <td id=\"T_8f24e9f1_6a0a_11eb_af83_0068ebda5a45row0_col7\" class=\"data row0 col7\" >1.00</td>\n",
       "                        <td id=\"T_8f24e9f1_6a0a_11eb_af83_0068ebda5a45row0_col8\" class=\"data row0 col8\" >0.75</td>\n",
       "                        <td id=\"T_8f24e9f1_6a0a_11eb_af83_0068ebda5a45row0_col9\" class=\"data row0 col9\" >-0.02</td>\n",
       "            </tr>\n",
       "            <tr>\n",
       "                        <th id=\"T_8f24e9f1_6a0a_11eb_af83_0068ebda5a45level0_row1\" class=\"row_heading level0 row1\" >negative</th>\n",
       "                        <td id=\"T_8f24e9f1_6a0a_11eb_af83_0068ebda5a45row1_col0\" class=\"data row1 col0\" >-1.00</td>\n",
       "                        <td id=\"T_8f24e9f1_6a0a_11eb_af83_0068ebda5a45row1_col1\" class=\"data row1 col1\" >1.00</td>\n",
       "                        <td id=\"T_8f24e9f1_6a0a_11eb_af83_0068ebda5a45row1_col2\" class=\"data row1 col2\" >-1.00</td>\n",
       "                        <td id=\"T_8f24e9f1_6a0a_11eb_af83_0068ebda5a45row1_col3\" class=\"data row1 col3\" >-0.97</td>\n",
       "                        <td id=\"T_8f24e9f1_6a0a_11eb_af83_0068ebda5a45row1_col4\" class=\"data row1 col4\" >-0.98</td>\n",
       "                        <td id=\"T_8f24e9f1_6a0a_11eb_af83_0068ebda5a45row1_col5\" class=\"data row1 col5\" >0.01</td>\n",
       "                        <td id=\"T_8f24e9f1_6a0a_11eb_af83_0068ebda5a45row1_col6\" class=\"data row1 col6\" >-0.90</td>\n",
       "                        <td id=\"T_8f24e9f1_6a0a_11eb_af83_0068ebda5a45row1_col7\" class=\"data row1 col7\" >-1.00</td>\n",
       "                        <td id=\"T_8f24e9f1_6a0a_11eb_af83_0068ebda5a45row1_col8\" class=\"data row1 col8\" >-0.75</td>\n",
       "                        <td id=\"T_8f24e9f1_6a0a_11eb_af83_0068ebda5a45row1_col9\" class=\"data row1 col9\" >0.02</td>\n",
       "            </tr>\n",
       "            <tr>\n",
       "                        <th id=\"T_8f24e9f1_6a0a_11eb_af83_0068ebda5a45level0_row2\" class=\"row_heading level0 row2\" >double</th>\n",
       "                        <td id=\"T_8f24e9f1_6a0a_11eb_af83_0068ebda5a45row2_col0\" class=\"data row2 col0\" >1.00</td>\n",
       "                        <td id=\"T_8f24e9f1_6a0a_11eb_af83_0068ebda5a45row2_col1\" class=\"data row2 col1\" >-1.00</td>\n",
       "                        <td id=\"T_8f24e9f1_6a0a_11eb_af83_0068ebda5a45row2_col2\" class=\"data row2 col2\" >1.00</td>\n",
       "                        <td id=\"T_8f24e9f1_6a0a_11eb_af83_0068ebda5a45row2_col3\" class=\"data row2 col3\" >0.97</td>\n",
       "                        <td id=\"T_8f24e9f1_6a0a_11eb_af83_0068ebda5a45row2_col4\" class=\"data row2 col4\" >0.98</td>\n",
       "                        <td id=\"T_8f24e9f1_6a0a_11eb_af83_0068ebda5a45row2_col5\" class=\"data row2 col5\" >-0.01</td>\n",
       "                        <td id=\"T_8f24e9f1_6a0a_11eb_af83_0068ebda5a45row2_col6\" class=\"data row2 col6\" >0.90</td>\n",
       "                        <td id=\"T_8f24e9f1_6a0a_11eb_af83_0068ebda5a45row2_col7\" class=\"data row2 col7\" >1.00</td>\n",
       "                        <td id=\"T_8f24e9f1_6a0a_11eb_af83_0068ebda5a45row2_col8\" class=\"data row2 col8\" >0.75</td>\n",
       "                        <td id=\"T_8f24e9f1_6a0a_11eb_af83_0068ebda5a45row2_col9\" class=\"data row2 col9\" >-0.02</td>\n",
       "            </tr>\n",
       "            <tr>\n",
       "                        <th id=\"T_8f24e9f1_6a0a_11eb_af83_0068ebda5a45level0_row3\" class=\"row_heading level0 row3\" >squared</th>\n",
       "                        <td id=\"T_8f24e9f1_6a0a_11eb_af83_0068ebda5a45row3_col0\" class=\"data row3 col0\" >0.97</td>\n",
       "                        <td id=\"T_8f24e9f1_6a0a_11eb_af83_0068ebda5a45row3_col1\" class=\"data row3 col1\" >-0.97</td>\n",
       "                        <td id=\"T_8f24e9f1_6a0a_11eb_af83_0068ebda5a45row3_col2\" class=\"data row3 col2\" >0.97</td>\n",
       "                        <td id=\"T_8f24e9f1_6a0a_11eb_af83_0068ebda5a45row3_col3\" class=\"data row3 col3\" >1.00</td>\n",
       "                        <td id=\"T_8f24e9f1_6a0a_11eb_af83_0068ebda5a45row3_col4\" class=\"data row3 col4\" >0.91</td>\n",
       "                        <td id=\"T_8f24e9f1_6a0a_11eb_af83_0068ebda5a45row3_col5\" class=\"data row3 col5\" >-0.01</td>\n",
       "                        <td id=\"T_8f24e9f1_6a0a_11eb_af83_0068ebda5a45row3_col6\" class=\"data row3 col6\" >0.78</td>\n",
       "                        <td id=\"T_8f24e9f1_6a0a_11eb_af83_0068ebda5a45row3_col7\" class=\"data row3 col7\" >0.96</td>\n",
       "                        <td id=\"T_8f24e9f1_6a0a_11eb_af83_0068ebda5a45row3_col8\" class=\"data row3 col8\" >0.72</td>\n",
       "                        <td id=\"T_8f24e9f1_6a0a_11eb_af83_0068ebda5a45row3_col9\" class=\"data row3 col9\" >-0.03</td>\n",
       "            </tr>\n",
       "            <tr>\n",
       "                        <th id=\"T_8f24e9f1_6a0a_11eb_af83_0068ebda5a45level0_row4\" class=\"row_heading level0 row4\" >root</th>\n",
       "                        <td id=\"T_8f24e9f1_6a0a_11eb_af83_0068ebda5a45row4_col0\" class=\"data row4 col0\" >0.98</td>\n",
       "                        <td id=\"T_8f24e9f1_6a0a_11eb_af83_0068ebda5a45row4_col1\" class=\"data row4 col1\" >-0.98</td>\n",
       "                        <td id=\"T_8f24e9f1_6a0a_11eb_af83_0068ebda5a45row4_col2\" class=\"data row4 col2\" >0.98</td>\n",
       "                        <td id=\"T_8f24e9f1_6a0a_11eb_af83_0068ebda5a45row4_col3\" class=\"data row4 col3\" >0.91</td>\n",
       "                        <td id=\"T_8f24e9f1_6a0a_11eb_af83_0068ebda5a45row4_col4\" class=\"data row4 col4\" >1.00</td>\n",
       "                        <td id=\"T_8f24e9f1_6a0a_11eb_af83_0068ebda5a45row4_col5\" class=\"data row4 col5\" >-0.00</td>\n",
       "                        <td id=\"T_8f24e9f1_6a0a_11eb_af83_0068ebda5a45row4_col6\" class=\"data row4 col6\" >0.96</td>\n",
       "                        <td id=\"T_8f24e9f1_6a0a_11eb_af83_0068ebda5a45row4_col7\" class=\"data row4 col7\" >0.98</td>\n",
       "                        <td id=\"T_8f24e9f1_6a0a_11eb_af83_0068ebda5a45row4_col8\" class=\"data row4 col8\" >0.75</td>\n",
       "                        <td id=\"T_8f24e9f1_6a0a_11eb_af83_0068ebda5a45row4_col9\" class=\"data row4 col9\" >-0.01</td>\n",
       "            </tr>\n",
       "            <tr>\n",
       "                        <th id=\"T_8f24e9f1_6a0a_11eb_af83_0068ebda5a45level0_row5\" class=\"row_heading level0 row5\" >exp</th>\n",
       "                        <td id=\"T_8f24e9f1_6a0a_11eb_af83_0068ebda5a45row5_col0\" class=\"data row5 col0\" >-0.01</td>\n",
       "                        <td id=\"T_8f24e9f1_6a0a_11eb_af83_0068ebda5a45row5_col1\" class=\"data row5 col1\" >0.01</td>\n",
       "                        <td id=\"T_8f24e9f1_6a0a_11eb_af83_0068ebda5a45row5_col2\" class=\"data row5 col2\" >-0.01</td>\n",
       "                        <td id=\"T_8f24e9f1_6a0a_11eb_af83_0068ebda5a45row5_col3\" class=\"data row5 col3\" >-0.01</td>\n",
       "                        <td id=\"T_8f24e9f1_6a0a_11eb_af83_0068ebda5a45row5_col4\" class=\"data row5 col4\" >-0.00</td>\n",
       "                        <td id=\"T_8f24e9f1_6a0a_11eb_af83_0068ebda5a45row5_col5\" class=\"data row5 col5\" >1.00</td>\n",
       "                        <td id=\"T_8f24e9f1_6a0a_11eb_af83_0068ebda5a45row5_col6\" class=\"data row5 col6\" >-0.00</td>\n",
       "                        <td id=\"T_8f24e9f1_6a0a_11eb_af83_0068ebda5a45row5_col7\" class=\"data row5 col7\" >0.01</td>\n",
       "                        <td id=\"T_8f24e9f1_6a0a_11eb_af83_0068ebda5a45row5_col8\" class=\"data row5 col8\" >-0.05</td>\n",
       "                        <td id=\"T_8f24e9f1_6a0a_11eb_af83_0068ebda5a45row5_col9\" class=\"data row5 col9\" >0.01</td>\n",
       "            </tr>\n",
       "            <tr>\n",
       "                        <th id=\"T_8f24e9f1_6a0a_11eb_af83_0068ebda5a45level0_row6\" class=\"row_heading level0 row6\" >log</th>\n",
       "                        <td id=\"T_8f24e9f1_6a0a_11eb_af83_0068ebda5a45row6_col0\" class=\"data row6 col0\" >0.90</td>\n",
       "                        <td id=\"T_8f24e9f1_6a0a_11eb_af83_0068ebda5a45row6_col1\" class=\"data row6 col1\" >-0.90</td>\n",
       "                        <td id=\"T_8f24e9f1_6a0a_11eb_af83_0068ebda5a45row6_col2\" class=\"data row6 col2\" >0.90</td>\n",
       "                        <td id=\"T_8f24e9f1_6a0a_11eb_af83_0068ebda5a45row6_col3\" class=\"data row6 col3\" >0.78</td>\n",
       "                        <td id=\"T_8f24e9f1_6a0a_11eb_af83_0068ebda5a45row6_col4\" class=\"data row6 col4\" >0.96</td>\n",
       "                        <td id=\"T_8f24e9f1_6a0a_11eb_af83_0068ebda5a45row6_col5\" class=\"data row6 col5\" >-0.00</td>\n",
       "                        <td id=\"T_8f24e9f1_6a0a_11eb_af83_0068ebda5a45row6_col6\" class=\"data row6 col6\" >1.00</td>\n",
       "                        <td id=\"T_8f24e9f1_6a0a_11eb_af83_0068ebda5a45row6_col7\" class=\"data row6 col7\" >0.89</td>\n",
       "                        <td id=\"T_8f24e9f1_6a0a_11eb_af83_0068ebda5a45row6_col8\" class=\"data row6 col8\" >0.68</td>\n",
       "                        <td id=\"T_8f24e9f1_6a0a_11eb_af83_0068ebda5a45row6_col9\" class=\"data row6 col9\" >0.01</td>\n",
       "            </tr>\n",
       "            <tr>\n",
       "                        <th id=\"T_8f24e9f1_6a0a_11eb_af83_0068ebda5a45level0_row7\" class=\"row_heading level0 row7\" >noiseSmall</th>\n",
       "                        <td id=\"T_8f24e9f1_6a0a_11eb_af83_0068ebda5a45row7_col0\" class=\"data row7 col0\" >1.00</td>\n",
       "                        <td id=\"T_8f24e9f1_6a0a_11eb_af83_0068ebda5a45row7_col1\" class=\"data row7 col1\" >-1.00</td>\n",
       "                        <td id=\"T_8f24e9f1_6a0a_11eb_af83_0068ebda5a45row7_col2\" class=\"data row7 col2\" >1.00</td>\n",
       "                        <td id=\"T_8f24e9f1_6a0a_11eb_af83_0068ebda5a45row7_col3\" class=\"data row7 col3\" >0.96</td>\n",
       "                        <td id=\"T_8f24e9f1_6a0a_11eb_af83_0068ebda5a45row7_col4\" class=\"data row7 col4\" >0.98</td>\n",
       "                        <td id=\"T_8f24e9f1_6a0a_11eb_af83_0068ebda5a45row7_col5\" class=\"data row7 col5\" >0.01</td>\n",
       "                        <td id=\"T_8f24e9f1_6a0a_11eb_af83_0068ebda5a45row7_col6\" class=\"data row7 col6\" >0.89</td>\n",
       "                        <td id=\"T_8f24e9f1_6a0a_11eb_af83_0068ebda5a45row7_col7\" class=\"data row7 col7\" >1.00</td>\n",
       "                        <td id=\"T_8f24e9f1_6a0a_11eb_af83_0068ebda5a45row7_col8\" class=\"data row7 col8\" >0.76</td>\n",
       "                        <td id=\"T_8f24e9f1_6a0a_11eb_af83_0068ebda5a45row7_col9\" class=\"data row7 col9\" >-0.03</td>\n",
       "            </tr>\n",
       "            <tr>\n",
       "                        <th id=\"T_8f24e9f1_6a0a_11eb_af83_0068ebda5a45level0_row8\" class=\"row_heading level0 row8\" >noiseMedium</th>\n",
       "                        <td id=\"T_8f24e9f1_6a0a_11eb_af83_0068ebda5a45row8_col0\" class=\"data row8 col0\" >0.75</td>\n",
       "                        <td id=\"T_8f24e9f1_6a0a_11eb_af83_0068ebda5a45row8_col1\" class=\"data row8 col1\" >-0.75</td>\n",
       "                        <td id=\"T_8f24e9f1_6a0a_11eb_af83_0068ebda5a45row8_col2\" class=\"data row8 col2\" >0.75</td>\n",
       "                        <td id=\"T_8f24e9f1_6a0a_11eb_af83_0068ebda5a45row8_col3\" class=\"data row8 col3\" >0.72</td>\n",
       "                        <td id=\"T_8f24e9f1_6a0a_11eb_af83_0068ebda5a45row8_col4\" class=\"data row8 col4\" >0.75</td>\n",
       "                        <td id=\"T_8f24e9f1_6a0a_11eb_af83_0068ebda5a45row8_col5\" class=\"data row8 col5\" >-0.05</td>\n",
       "                        <td id=\"T_8f24e9f1_6a0a_11eb_af83_0068ebda5a45row8_col6\" class=\"data row8 col6\" >0.68</td>\n",
       "                        <td id=\"T_8f24e9f1_6a0a_11eb_af83_0068ebda5a45row8_col7\" class=\"data row8 col7\" >0.76</td>\n",
       "                        <td id=\"T_8f24e9f1_6a0a_11eb_af83_0068ebda5a45row8_col8\" class=\"data row8 col8\" >1.00</td>\n",
       "                        <td id=\"T_8f24e9f1_6a0a_11eb_af83_0068ebda5a45row8_col9\" class=\"data row8 col9\" >0.03</td>\n",
       "            </tr>\n",
       "            <tr>\n",
       "                        <th id=\"T_8f24e9f1_6a0a_11eb_af83_0068ebda5a45level0_row9\" class=\"row_heading level0 row9\" >noiseHeavy</th>\n",
       "                        <td id=\"T_8f24e9f1_6a0a_11eb_af83_0068ebda5a45row9_col0\" class=\"data row9 col0\" >-0.02</td>\n",
       "                        <td id=\"T_8f24e9f1_6a0a_11eb_af83_0068ebda5a45row9_col1\" class=\"data row9 col1\" >0.02</td>\n",
       "                        <td id=\"T_8f24e9f1_6a0a_11eb_af83_0068ebda5a45row9_col2\" class=\"data row9 col2\" >-0.02</td>\n",
       "                        <td id=\"T_8f24e9f1_6a0a_11eb_af83_0068ebda5a45row9_col3\" class=\"data row9 col3\" >-0.03</td>\n",
       "                        <td id=\"T_8f24e9f1_6a0a_11eb_af83_0068ebda5a45row9_col4\" class=\"data row9 col4\" >-0.01</td>\n",
       "                        <td id=\"T_8f24e9f1_6a0a_11eb_af83_0068ebda5a45row9_col5\" class=\"data row9 col5\" >0.01</td>\n",
       "                        <td id=\"T_8f24e9f1_6a0a_11eb_af83_0068ebda5a45row9_col6\" class=\"data row9 col6\" >0.01</td>\n",
       "                        <td id=\"T_8f24e9f1_6a0a_11eb_af83_0068ebda5a45row9_col7\" class=\"data row9 col7\" >-0.03</td>\n",
       "                        <td id=\"T_8f24e9f1_6a0a_11eb_af83_0068ebda5a45row9_col8\" class=\"data row9 col8\" >0.03</td>\n",
       "                        <td id=\"T_8f24e9f1_6a0a_11eb_af83_0068ebda5a45row9_col9\" class=\"data row9 col9\" >1.00</td>\n",
       "            </tr>\n",
       "    </tbody></table>"
      ],
      "text/plain": [
       "<pandas.io.formats.style.Styler at 0x1f67ac4edf0>"
      ]
     },
     "execution_count": 13,
     "metadata": {},
     "output_type": "execute_result"
    }
   ],
   "source": [
    "exampleDataCorrelations = exampleDataFrame.corr()\n",
    "exampleDataCorrelations.style.background_gradient(cmap='coolwarm', axis=None).set_precision(2)"
   ]
  },
  {
   "cell_type": "code",
   "execution_count": 14,
   "metadata": {
    "scrolled": true
   },
   "outputs": [
    {
     "data": {
      "text/plain": [
       "<AxesSubplot:>"
      ]
     },
     "execution_count": 14,
     "metadata": {},
     "output_type": "execute_result"
    },
    {
     "data": {
      "image/png": "[encoded data removed]",
      "text/plain": [
       "<Figure size 1080x576 with 1 Axes>"
      ]
     },
     "metadata": {
      "needs_background": "light"
     },
     "output_type": "display_data"
    }
   ],
   "source": [
    "# Excluding a couple of columns because their values are too high to show in the same plot\n",
    "exampleDataFrame.drop(['exp', 'squared' , 'noiseHeavy'], axis=1).plot(figsize=(15,8))"
   ]
  },
  {
   "cell_type": "markdown",
   "metadata": {},
   "source": [
    "### Portfolio assignment 9\n",
    "25 min: Perform a bivariate analysis on the columns with numerical data in the penguins dataset.\n",
    "- Use corr() on the DataFrame to calculate all the correlations. Use the code example above to show the correlation table with colors.\n",
    "- Look at the corrrelations. Do they match your expectations?\n",
    "- Show a scatter plot for\n",
    " - The strongest positive correlation\n",
    " - The strongest negative correlation\n",
    " - The weakest correlation"
   ]
  },
  {
   "cell_type": "code",
   "execution_count": 15,
   "metadata": {},
   "outputs": [],
   "source": [
    "penguins = sns.load_dataset(\"penguins\")"
   ]
  },
  {
   "cell_type": "code",
   "execution_count": 16,
   "metadata": {},
   "outputs": [
    {
     "data": {
      "text/html": [
       "<div>\n",
       "<style scoped>\n",
       "    .dataframe tbody tr th:only-of-type {\n",
       "        vertical-align: middle;\n",
       "    }\n",
       "\n",
       "    .dataframe tbody tr th {\n",
       "        vertical-align: top;\n",
       "    }\n",
       "\n",
       "    .dataframe thead th {\n",
       "        text-align: right;\n",
       "    }\n",
       "</style>\n",
       "<table border=\"1\" class=\"dataframe\">\n",
       "  <thead>\n",
       "    <tr style=\"text-align: right;\">\n",
       "      <th></th>\n",
       "      <th>species</th>\n",
       "      <th>island</th>\n",
       "      <th>bill_length_mm</th>\n",
       "      <th>bill_depth_mm</th>\n",
       "      <th>flipper_length_mm</th>\n",
       "      <th>body_mass_g</th>\n",
       "      <th>sex</th>\n",
       "    </tr>\n",
       "  </thead>\n",
       "  <tbody>\n",
       "    <tr>\n",
       "      <th>0</th>\n",
       "      <td>Adelie</td>\n",
       "      <td>Torgersen</td>\n",
       "      <td>39.1</td>\n",
       "      <td>18.7</td>\n",
       "      <td>181.0</td>\n",
       "      <td>3750.0</td>\n",
       "      <td>Male</td>\n",
       "    </tr>\n",
       "    <tr>\n",
       "      <th>1</th>\n",
       "      <td>Adelie</td>\n",
       "      <td>Torgersen</td>\n",
       "      <td>39.5</td>\n",
       "      <td>17.4</td>\n",
       "      <td>186.0</td>\n",
       "      <td>3800.0</td>\n",
       "      <td>Female</td>\n",
       "    </tr>\n",
       "    <tr>\n",
       "      <th>2</th>\n",
       "      <td>Adelie</td>\n",
       "      <td>Torgersen</td>\n",
       "      <td>40.3</td>\n",
       "      <td>18.0</td>\n",
       "      <td>195.0</td>\n",
       "      <td>3250.0</td>\n",
       "      <td>Female</td>\n",
       "    </tr>\n",
       "    <tr>\n",
       "      <th>3</th>\n",
       "      <td>Adelie</td>\n",
       "      <td>Torgersen</td>\n",
       "      <td>NaN</td>\n",
       "      <td>NaN</td>\n",
       "      <td>NaN</td>\n",
       "      <td>NaN</td>\n",
       "      <td>NaN</td>\n",
       "    </tr>\n",
       "    <tr>\n",
       "      <th>4</th>\n",
       "      <td>Adelie</td>\n",
       "      <td>Torgersen</td>\n",
       "      <td>36.7</td>\n",
       "      <td>19.3</td>\n",
       "      <td>193.0</td>\n",
       "      <td>3450.0</td>\n",
       "      <td>Female</td>\n",
       "    </tr>\n",
       "  </tbody>\n",
       "</table>\n",
       "</div>"
      ],
      "text/plain": [
       "  species     island  bill_length_mm  bill_depth_mm  flipper_length_mm  \\\n",
       "0  Adelie  Torgersen            39.1           18.7              181.0   \n",
       "1  Adelie  Torgersen            39.5           17.4              186.0   \n",
       "2  Adelie  Torgersen            40.3           18.0              195.0   \n",
       "3  Adelie  Torgersen             NaN            NaN                NaN   \n",
       "4  Adelie  Torgersen            36.7           19.3              193.0   \n",
       "\n",
       "   body_mass_g     sex  \n",
       "0       3750.0    Male  \n",
       "1       3800.0  Female  \n",
       "2       3250.0  Female  \n",
       "3          NaN     NaN  \n",
       "4       3450.0  Female  "
      ]
     },
     "execution_count": 16,
     "metadata": {},
     "output_type": "execute_result"
    }
   ],
   "source": [
    "penguins.head()"
   ]
  },
  {
   "cell_type": "markdown",
   "metadata": {},
   "source": [
    "![](https://www.galapagos.org/wp-content/uploads/2019/04/PenguinMeasurements_BLOGv3.png)"
   ]
  },
  {
   "cell_type": "markdown",
   "metadata": {},
   "source": [
    "![](https://i.imgur.com/0v1CGNV.png)"
   ]
  },
  {
   "cell_type": "markdown",
   "metadata": {},
   "source": [
    "### Portfolio assignment 10\n",
    "15 min: Perform a bivariate analysis (Pearson correlation and scatter plot) on at least 1 combination of 2 columns with numeric data in the dataset that you chose in portfolio assignment 4. Does the correlation and scatter plot match your expectations? Add your answer to your notebook. Commit the Notebook to your portfolio when you're finished. "
   ]
  },
  {
   "cell_type": "markdown",
   "metadata": {},
   "source": [
    "![](https://i.imgur.com/0v1CGNV.png)"
   ]
  },
  {
   "cell_type": "markdown",
   "metadata": {},
   "source": [
    "## Numerical VS Categorical"
   ]
  },
  {
   "cell_type": "markdown",
   "metadata": {},
   "source": [
    "Examples:\n",
    "- Monthly earnings VS Highest obtained degree\n",
    "- Body length VS Country of origin\n",
    "- Happiness rating VS Country of origin\n",
    "- Sales VS Account Manager. \n",
    "- Revenue VS Product Category\n",
    "- Revenue VS Game genre\n",
    "- Retention VS Software version\n",
    "- ..."
   ]
  },
  {
   "cell_type": "markdown",
   "metadata": {},
   "source": [
    "In univariate analysis for numerical data we've looked at confidence intervals. We can use these to check if there are any signicant differences between categories."
   ]
  },
  {
   "cell_type": "markdown",
   "metadata": {},
   "source": [
    "You and I are are going to roll a 6-sided die. The numerical variable is the value we roll and the categorical variable is who rolled it. We know that in reality the average value of a 6-sided die is 3.5 (=(1+2+3+4+5+6)/6). We know that there is no skill involved, so who rolls the die should have no impact on the result. We each roll the die 3 times.\n",
    "    <img src=\"https://wherethewindsblow.com/wp-content/uploads/2015/07/JUMBO-Six-sided-white-dice.jpg\" style=\"width: 300px;\"/>"
   ]
  },
  {
   "cell_type": "code",
   "execution_count": 17,
   "metadata": {
    "scrolled": true
   },
   "outputs": [
    {
     "data": {
      "text/html": [
       "<div>\n",
       "<style scoped>\n",
       "    .dataframe tbody tr th:only-of-type {\n",
       "        vertical-align: middle;\n",
       "    }\n",
       "\n",
       "    .dataframe tbody tr th {\n",
       "        vertical-align: top;\n",
       "    }\n",
       "\n",
       "    .dataframe thead th {\n",
       "        text-align: right;\n",
       "    }\n",
       "</style>\n",
       "<table border=\"1\" class=\"dataframe\">\n",
       "  <thead>\n",
       "    <tr style=\"text-align: right;\">\n",
       "      <th></th>\n",
       "      <th>Person</th>\n",
       "      <th>Rolls</th>\n",
       "    </tr>\n",
       "  </thead>\n",
       "  <tbody>\n",
       "    <tr>\n",
       "      <th>0</th>\n",
       "      <td>you</td>\n",
       "      <td>6</td>\n",
       "    </tr>\n",
       "    <tr>\n",
       "      <th>1</th>\n",
       "      <td>you</td>\n",
       "      <td>3</td>\n",
       "    </tr>\n",
       "    <tr>\n",
       "      <th>2</th>\n",
       "      <td>you</td>\n",
       "      <td>6</td>\n",
       "    </tr>\n",
       "    <tr>\n",
       "      <th>3</th>\n",
       "      <td>me</td>\n",
       "      <td>2</td>\n",
       "    </tr>\n",
       "    <tr>\n",
       "      <th>4</th>\n",
       "      <td>me</td>\n",
       "      <td>4</td>\n",
       "    </tr>\n",
       "    <tr>\n",
       "      <th>5</th>\n",
       "      <td>me</td>\n",
       "      <td>2</td>\n",
       "    </tr>\n",
       "  </tbody>\n",
       "</table>\n",
       "</div>"
      ],
      "text/plain": [
       "  Person  Rolls\n",
       "0    you      6\n",
       "1    you      3\n",
       "2    you      6\n",
       "3     me      2\n",
       "4     me      4\n",
       "5     me      2"
      ]
     },
     "execution_count": 17,
     "metadata": {},
     "output_type": "execute_result"
    }
   ],
   "source": [
    "diceRolls = pd.DataFrame(data= {'Person': ['you', 'you', 'you', 'me','me','me'], 'Rolls': [6,3,6,2,4,2]})\n",
    "diceRolls"
   ]
  },
  {
   "cell_type": "code",
   "execution_count": 18,
   "metadata": {
    "scrolled": true
   },
   "outputs": [
    {
     "data": {
      "text/html": [
       "<div>\n",
       "<style scoped>\n",
       "    .dataframe tbody tr th:only-of-type {\n",
       "        vertical-align: middle;\n",
       "    }\n",
       "\n",
       "    .dataframe tbody tr th {\n",
       "        vertical-align: top;\n",
       "    }\n",
       "\n",
       "    .dataframe thead th {\n",
       "        text-align: right;\n",
       "    }\n",
       "</style>\n",
       "<table border=\"1\" class=\"dataframe\">\n",
       "  <thead>\n",
       "    <tr style=\"text-align: right;\">\n",
       "      <th></th>\n",
       "      <th>Rolls</th>\n",
       "    </tr>\n",
       "    <tr>\n",
       "      <th>Person</th>\n",
       "      <th></th>\n",
       "    </tr>\n",
       "  </thead>\n",
       "  <tbody>\n",
       "    <tr>\n",
       "      <th>me</th>\n",
       "      <td>2.666667</td>\n",
       "    </tr>\n",
       "    <tr>\n",
       "      <th>you</th>\n",
       "      <td>5.000000</td>\n",
       "    </tr>\n",
       "  </tbody>\n",
       "</table>\n",
       "</div>"
      ],
      "text/plain": [
       "           Rolls\n",
       "Person          \n",
       "me      2.666667\n",
       "you     5.000000"
      ]
     },
     "execution_count": 18,
     "metadata": {},
     "output_type": "execute_result"
    }
   ],
   "source": [
    "diceRolls.groupby(by=\"Person\").mean()"
   ]
  },
  {
   "cell_type": "markdown",
   "metadata": {},
   "source": [
    "Looks like you rolled an average value of 5 and I rolled an average value of ~2.7. Does this mean you are better at rolling dice than me?"
   ]
  },
  {
   "cell_type": "code",
   "execution_count": 19,
   "metadata": {
    "scrolled": true
   },
   "outputs": [
    {
     "data": {
      "text/plain": [
       "<AxesSubplot:xlabel='Person', ylabel='Rolls'>"
      ]
     },
     "execution_count": 19,
     "metadata": {},
     "output_type": "execute_result"
    },
    {
     "data": {
      "image/png": "[encoded data removed]",
      "text/plain": [
       "<Figure size 432x288 with 1 Axes>"
      ]
     },
     "metadata": {
      "needs_background": "light"
     },
     "output_type": "display_data"
    }
   ],
   "source": [
    "sns.barplot(x=\"Person\", y=\"Rolls\", data=diceRolls)"
   ]
  },
  {
   "cell_type": "markdown",
   "metadata": {},
   "source": [
    "The confidence intervals overlap. This means that we can not yet be sure that you're a better dice roller than me. If we want the confidence intervals to become smaller, we'll need more data which means we need to do more dice rolls."
   ]
  },
  {
   "cell_type": "markdown",
   "metadata": {},
   "source": [
    "Let's look if there are significant difference between iris species."
   ]
  },
  {
   "cell_type": "code",
   "execution_count": 20,
   "metadata": {},
   "outputs": [
    {
     "data": {
      "text/html": [
       "<div>\n",
       "<style scoped>\n",
       "    .dataframe tbody tr th:only-of-type {\n",
       "        vertical-align: middle;\n",
       "    }\n",
       "\n",
       "    .dataframe tbody tr th {\n",
       "        vertical-align: top;\n",
       "    }\n",
       "\n",
       "    .dataframe thead th {\n",
       "        text-align: right;\n",
       "    }\n",
       "</style>\n",
       "<table border=\"1\" class=\"dataframe\">\n",
       "  <thead>\n",
       "    <tr style=\"text-align: right;\">\n",
       "      <th></th>\n",
       "      <th>sepal_length</th>\n",
       "      <th>sepal_width</th>\n",
       "      <th>petal_length</th>\n",
       "      <th>petal_width</th>\n",
       "      <th>species</th>\n",
       "    </tr>\n",
       "  </thead>\n",
       "  <tbody>\n",
       "    <tr>\n",
       "      <th>0</th>\n",
       "      <td>5.1</td>\n",
       "      <td>3.5</td>\n",
       "      <td>1.4</td>\n",
       "      <td>0.2</td>\n",
       "      <td>setosa</td>\n",
       "    </tr>\n",
       "    <tr>\n",
       "      <th>1</th>\n",
       "      <td>4.9</td>\n",
       "      <td>3.0</td>\n",
       "      <td>1.4</td>\n",
       "      <td>0.2</td>\n",
       "      <td>setosa</td>\n",
       "    </tr>\n",
       "    <tr>\n",
       "      <th>2</th>\n",
       "      <td>4.7</td>\n",
       "      <td>3.2</td>\n",
       "      <td>1.3</td>\n",
       "      <td>0.2</td>\n",
       "      <td>setosa</td>\n",
       "    </tr>\n",
       "    <tr>\n",
       "      <th>3</th>\n",
       "      <td>4.6</td>\n",
       "      <td>3.1</td>\n",
       "      <td>1.5</td>\n",
       "      <td>0.2</td>\n",
       "      <td>setosa</td>\n",
       "    </tr>\n",
       "    <tr>\n",
       "      <th>4</th>\n",
       "      <td>5.0</td>\n",
       "      <td>3.6</td>\n",
       "      <td>1.4</td>\n",
       "      <td>0.2</td>\n",
       "      <td>setosa</td>\n",
       "    </tr>\n",
       "  </tbody>\n",
       "</table>\n",
       "</div>"
      ],
      "text/plain": [
       "   sepal_length  sepal_width  petal_length  petal_width species\n",
       "0           5.1          3.5           1.4          0.2  setosa\n",
       "1           4.9          3.0           1.4          0.2  setosa\n",
       "2           4.7          3.2           1.3          0.2  setosa\n",
       "3           4.6          3.1           1.5          0.2  setosa\n",
       "4           5.0          3.6           1.4          0.2  setosa"
      ]
     },
     "execution_count": 20,
     "metadata": {},
     "output_type": "execute_result"
    }
   ],
   "source": [
    "iris.head()"
   ]
  },
  {
   "cell_type": "code",
   "execution_count": 21,
   "metadata": {},
   "outputs": [
    {
     "data": {
      "text/html": [
       "<div>\n",
       "<style scoped>\n",
       "    .dataframe tbody tr th:only-of-type {\n",
       "        vertical-align: middle;\n",
       "    }\n",
       "\n",
       "    .dataframe tbody tr th {\n",
       "        vertical-align: top;\n",
       "    }\n",
       "\n",
       "    .dataframe thead th {\n",
       "        text-align: right;\n",
       "    }\n",
       "</style>\n",
       "<table border=\"1\" class=\"dataframe\">\n",
       "  <thead>\n",
       "    <tr style=\"text-align: right;\">\n",
       "      <th></th>\n",
       "      <th>sepal_length</th>\n",
       "      <th>sepal_width</th>\n",
       "      <th>petal_length</th>\n",
       "      <th>petal_width</th>\n",
       "    </tr>\n",
       "    <tr>\n",
       "      <th>species</th>\n",
       "      <th></th>\n",
       "      <th></th>\n",
       "      <th></th>\n",
       "      <th></th>\n",
       "    </tr>\n",
       "  </thead>\n",
       "  <tbody>\n",
       "    <tr>\n",
       "      <th>setosa</th>\n",
       "      <td>5.006</td>\n",
       "      <td>3.428</td>\n",
       "      <td>1.462</td>\n",
       "      <td>0.246</td>\n",
       "    </tr>\n",
       "    <tr>\n",
       "      <th>versicolor</th>\n",
       "      <td>5.936</td>\n",
       "      <td>2.770</td>\n",
       "      <td>4.260</td>\n",
       "      <td>1.326</td>\n",
       "    </tr>\n",
       "    <tr>\n",
       "      <th>virginica</th>\n",
       "      <td>6.588</td>\n",
       "      <td>2.974</td>\n",
       "      <td>5.552</td>\n",
       "      <td>2.026</td>\n",
       "    </tr>\n",
       "  </tbody>\n",
       "</table>\n",
       "</div>"
      ],
      "text/plain": [
       "            sepal_length  sepal_width  petal_length  petal_width\n",
       "species                                                         \n",
       "setosa             5.006        3.428         1.462        0.246\n",
       "versicolor         5.936        2.770         4.260        1.326\n",
       "virginica          6.588        2.974         5.552        2.026"
      ]
     },
     "execution_count": 21,
     "metadata": {},
     "output_type": "execute_result"
    }
   ],
   "source": [
    "iris.groupby('species').mean()"
   ]
  },
  {
   "cell_type": "code",
   "execution_count": 22,
   "metadata": {},
   "outputs": [],
   "source": [
    "numericalColumnToCheck = \"sepal\""
   ]
  },
  {
   "cell_type": "code",
   "execution_count": 23,
   "metadata": {},
   "outputs": [
    {
     "data": {
      "text/plain": [
       "<AxesSubplot:xlabel='species', ylabel='sepal_length'>"
      ]
     },
     "execution_count": 23,
     "metadata": {},
     "output_type": "execute_result"
    },
    {
     "data": {
      "image/png": "[encoded data removed]",
      "text/plain": [
       "<Figure size 432x288 with 1 Axes>"
      ]
     },
     "metadata": {
      "needs_background": "light"
     },
     "output_type": "display_data"
    }
   ],
   "source": [
    "sns.barplot(y=\"sepal_length\", x=\"species\", data=iris) \n",
    "# Add parameter ci if you want to change certainty of confidence interval. \n",
    "# For example ci = 99 for 99% certainty.\n",
    "# The default is 95%"
   ]
  },
  {
   "cell_type": "code",
   "execution_count": 24,
   "metadata": {},
   "outputs": [
    {
     "data": {
      "text/plain": [
       "<AxesSubplot:xlabel='species', ylabel='sepal_width'>"
      ]
     },
     "execution_count": 24,
     "metadata": {},
     "output_type": "execute_result"
    },
    {
     "data": {
      "image/png": "[encoded data removed]",
      "text/plain": [
       "<Figure size 432x288 with 1 Axes>"
      ]
     },
     "metadata": {
      "needs_background": "light"
     },
     "output_type": "display_data"
    }
   ],
   "source": [
    "sns.barplot(y=\"sepal_width\", x=\"species\", data=iris)"
   ]
  },
  {
   "cell_type": "code",
   "execution_count": 25,
   "metadata": {},
   "outputs": [
    {
     "data": {
      "text/plain": [
       "<AxesSubplot:xlabel='species', ylabel='petal_length'>"
      ]
     },
     "execution_count": 25,
     "metadata": {},
     "output_type": "execute_result"
    },
    {
     "data": {
      "image/png": "[encoded data removed]",
      "text/plain": [
       "<Figure size 432x288 with 1 Axes>"
      ]
     },
     "metadata": {
      "needs_background": "light"
     },
     "output_type": "display_data"
    }
   ],
   "source": [
    "sns.barplot(y=\"petal_length\", x=\"species\", data=iris)"
   ]
  },
  {
   "cell_type": "code",
   "execution_count": 26,
   "metadata": {},
   "outputs": [
    {
     "data": {
      "text/plain": [
       "<AxesSubplot:xlabel='species', ylabel='petal_width'>"
      ]
     },
     "execution_count": 26,
     "metadata": {},
     "output_type": "execute_result"
    },
    {
     "data": {
      "image/png": "[encoded data removed]",
      "text/plain": [
       "<Figure size 432x288 with 1 Axes>"
      ]
     },
     "metadata": {
      "needs_background": "light"
     },
     "output_type": "display_data"
    }
   ],
   "source": [
    "sns.barplot(y=\"petal_width\", x=\"species\", data=iris)"
   ]
  },
  {
   "cell_type": "markdown",
   "metadata": {},
   "source": [
    "### Portfolio assignment 11\n",
    "20 min: Do a Numerical VS Categorical bivariate analysis on the penguins dataset.\n",
    "- Choose one of the categorical columns: species, island or sex\n",
    "- use .groupby('<columnname>').mean() too look at the means of the numerical columns. Does it look like there is a difference between categories?\n",
    "- Use the seaborn barplot to plot the mean and confidence. Create this plot for each of the numerical columns (bill_length_mm\tbill_depth_mm, flipper_length_mm, body_mass_g)\n",
    "- For each of the plots, write a conclusion: Is there a statistically significant difference for this numerical column for each category?\n",
    "- Optional: Repeat this proces for the other two categorical columns"
   ]
  },
  {
   "cell_type": "code",
   "execution_count": 27,
   "metadata": {},
   "outputs": [
    {
     "data": {
      "text/html": [
       "<div>\n",
       "<style scoped>\n",
       "    .dataframe tbody tr th:only-of-type {\n",
       "        vertical-align: middle;\n",
       "    }\n",
       "\n",
       "    .dataframe tbody tr th {\n",
       "        vertical-align: top;\n",
       "    }\n",
       "\n",
       "    .dataframe thead th {\n",
       "        text-align: right;\n",
       "    }\n",
       "</style>\n",
       "<table border=\"1\" class=\"dataframe\">\n",
       "  <thead>\n",
       "    <tr style=\"text-align: right;\">\n",
       "      <th></th>\n",
       "      <th>species</th>\n",
       "      <th>island</th>\n",
       "      <th>bill_length_mm</th>\n",
       "      <th>bill_depth_mm</th>\n",
       "      <th>flipper_length_mm</th>\n",
       "      <th>body_mass_g</th>\n",
       "      <th>sex</th>\n",
       "    </tr>\n",
       "  </thead>\n",
       "  <tbody>\n",
       "    <tr>\n",
       "      <th>0</th>\n",
       "      <td>Adelie</td>\n",
       "      <td>Torgersen</td>\n",
       "      <td>39.1</td>\n",
       "      <td>18.7</td>\n",
       "      <td>181.0</td>\n",
       "      <td>3750.0</td>\n",
       "      <td>Male</td>\n",
       "    </tr>\n",
       "    <tr>\n",
       "      <th>1</th>\n",
       "      <td>Adelie</td>\n",
       "      <td>Torgersen</td>\n",
       "      <td>39.5</td>\n",
       "      <td>17.4</td>\n",
       "      <td>186.0</td>\n",
       "      <td>3800.0</td>\n",
       "      <td>Female</td>\n",
       "    </tr>\n",
       "    <tr>\n",
       "      <th>2</th>\n",
       "      <td>Adelie</td>\n",
       "      <td>Torgersen</td>\n",
       "      <td>40.3</td>\n",
       "      <td>18.0</td>\n",
       "      <td>195.0</td>\n",
       "      <td>3250.0</td>\n",
       "      <td>Female</td>\n",
       "    </tr>\n",
       "    <tr>\n",
       "      <th>3</th>\n",
       "      <td>Adelie</td>\n",
       "      <td>Torgersen</td>\n",
       "      <td>NaN</td>\n",
       "      <td>NaN</td>\n",
       "      <td>NaN</td>\n",
       "      <td>NaN</td>\n",
       "      <td>NaN</td>\n",
       "    </tr>\n",
       "    <tr>\n",
       "      <th>4</th>\n",
       "      <td>Adelie</td>\n",
       "      <td>Torgersen</td>\n",
       "      <td>36.7</td>\n",
       "      <td>19.3</td>\n",
       "      <td>193.0</td>\n",
       "      <td>3450.0</td>\n",
       "      <td>Female</td>\n",
       "    </tr>\n",
       "  </tbody>\n",
       "</table>\n",
       "</div>"
      ],
      "text/plain": [
       "  species     island  bill_length_mm  bill_depth_mm  flipper_length_mm  \\\n",
       "0  Adelie  Torgersen            39.1           18.7              181.0   \n",
       "1  Adelie  Torgersen            39.5           17.4              186.0   \n",
       "2  Adelie  Torgersen            40.3           18.0              195.0   \n",
       "3  Adelie  Torgersen             NaN            NaN                NaN   \n",
       "4  Adelie  Torgersen            36.7           19.3              193.0   \n",
       "\n",
       "   body_mass_g     sex  \n",
       "0       3750.0    Male  \n",
       "1       3800.0  Female  \n",
       "2       3250.0  Female  \n",
       "3          NaN     NaN  \n",
       "4       3450.0  Female  "
      ]
     },
     "execution_count": 27,
     "metadata": {},
     "output_type": "execute_result"
    }
   ],
   "source": [
    "penguins.head()"
   ]
  },
  {
   "cell_type": "markdown",
   "metadata": {},
   "source": [
    "![](https://i.imgur.com/0v1CGNV.png)"
   ]
  },
  {
   "cell_type": "markdown",
   "metadata": {},
   "source": [
    "### Portfolio assignment 12\n",
    "30 min: Perform a bivariate analysis on at least 3 combinations of a numerical column with a categorical column in the dataset that you chose in portfolio assignment 4. Use <em>.groupby('columnname').mean()</em> to calculate the means. Is there a difference between categories? Then use seaborn barplots to check if there is a statistically significant difference. "
   ]
  },
  {
   "cell_type": "markdown",
   "metadata": {},
   "source": [
    "![](https://i.imgur.com/0v1CGNV.png)"
   ]
  },
  {
   "cell_type": "code",
   "execution_count": null,
   "metadata": {},
   "outputs": [],
   "source": []
  }
 ],
 "metadata": {
  "kernelspec": {
   "display_name": "Python 3",
   "language": "python",
   "name": "python3"
  },
  "language_info": {
   "codemirror_mode": {
    "name": "ipython",
    "version": 3
   },
   "file_extension": ".py",
   "mimetype": "text/x-python",
   "name": "python",
   "nbconvert_exporter": "python",
   "pygments_lexer": "ipython3",
   "version": "3.8.5"
  }
 },
 "nbformat": 4,
 "nbformat_minor": 4
}
